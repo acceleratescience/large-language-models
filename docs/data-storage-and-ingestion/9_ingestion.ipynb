{
 "cells": [
  {
   "cell_type": "markdown",
   "metadata": {},
   "source": [
    "# RAG\n",
    "In this section we will start to see the glimpses of RAG. We start by figuring out how to handle external documents.\n",
    "\n",
    "As with data storage, we have many, _**many**_ options for processing external documents. In this section we will make use of LlamaIndex "
   ]
  },
  {
   "cell_type": "code",
   "execution_count": 1,
   "metadata": {},
   "outputs": [],
   "source": [
    "from pathlib import Path\n",
    "from llama_index.readers.file import PyMuPDFReader\n",
    "from llama_index.core.node_parser import SentenceSplitter"
   ]
  },
  {
   "cell_type": "code",
   "execution_count": 29,
   "metadata": {},
   "outputs": [],
   "source": [
    "text_parser = SentenceSplitter(\n",
    "    chunk_size=1024,\n",
    "    chunk_overlap=128,\n",
    ")\n",
    "\n",
    "loader = PyMuPDFReader()\n",
    "documents = loader.load(file_path=\"data/paper.pdf\")"
   ]
  },
  {
   "cell_type": "code",
   "execution_count": 30,
   "metadata": {},
   "outputs": [
    {
     "data": {
      "text/plain": [
       "[Document(id_='fc0959d0-f777-4a98-875a-5e91d55de278', embedding=None, metadata={'total_pages': 7, 'file_path': 'data/paper.pdf', 'source': '1'}, excluded_embed_metadata_keys=[], excluded_llm_metadata_keys=[], relationships={}, text='A P P L I ED S C I E N C E S A N D EN G I N E E R I N G\\nCopyright © 2019\\nThe Authors, some\\nrights reserved;\\nexclusive licensee\\nAmerican Association\\nfor the Advancement\\nof Science. No claim to\\noriginalU.S.Government\\nWorks. Distributed\\nunder a Creative\\nCommons Attribution\\nNonCommercial\\nLicense 4.0 (CC BY-NC).\\nAvalanches and criticality in self-organized\\nnanoscale networks\\nJ. B. Mallinson, S. Shirai, S. K. Acharya, S. K. Bose, E. Galli, S. A. Brown*\\nCurrent efforts to achieve neuromorphic computation are focused on highly organized architectures, such as\\nintegrated circuits and regular arrays of memristors, which lack the complex interconnectivity of the brain and\\nso are unable to exhibit brain-like dynamics. New architectures are required, both to emulate the complexity of\\nthe brain and to achieve critical dynamics and consequent maximal computational performance. We show here\\nthat electrical signals from self-organized networks of nanoparticles exhibit brain-like spatiotemporal correla-\\ntions and criticality when fabricated at a percolating phase transition. Specifically, the sizes and durations of\\navalanches of switching events are power law distributed, and the power law exponents satisfy rigorous criteria\\nfor criticality. These signals are therefore qualitatively and quantitatively similar to those measured in the cortex.\\nOur self-organized networks provide a low-cost platform for computational approaches that rely on spatio-\\ntemporal correlations, such as reservoir computing, and are an important step toward creating neuromorphic\\ndevice architectures.\\nINTRODUCTION\\nThere is currently huge interest in building neuromorphic computa-\\ntional systems that operate on brain-like principles to perform cer-\\ntain tasks (e.g., classification and pattern recognition) much more\\nefficiently than on traditional computers. Neuromorphic processing\\nhas been implemented in a number of hardware platforms, using\\ncomponents ranging from traditional silicon-based technology (1, 2),\\ncrossbar memristor arrays (3–6), and novel nanoscale device elements\\nthat use atomic-scale dynamics to mimic the behavior of synapses and\\nneurons (7–9). All of these approaches rely on highly ordered architec-\\ntures, but neuromorphic computational paradigms such as reservoir\\ncomputing (RC) (10–12) require complex networks with strong in-\\nherent spatiotemporal correlations (13, 14). Maximal computational\\nperformance (15–17) in these systems requires network architec-\\ntures that are not only complex but also critical (18).\\nAt a critical point (17–20), the underlying network is scale free\\n(21, 22), and the dynamics are characterized by scale-invariant ava-\\nlanches, as observed in many systems ranging from earthquakes to\\nbiological extinctions and magnetization dynamics (23). Put simply,\\na critical system is poised such that any event is likely to trigger sub-\\nsequent events, leading to a cascade (15). Avalanches of events are an\\nThe MacDiarmid Institute for Advanced Materials and Nanotechnology, School of\\nPhysical and Chemical Sciences, Te Kura Matū, University of Canterbury, Private\\nBag 4800, Christchurch 8140, New Zealand.\\n*Corresponding author. Email: simon.brown@canterbury.ac.nz\\nFig. 1. Device schematic, atomic switches, and percolating networks. (A) Top: Schematic diagram illustrating our simple two-terminal contact geometry and the\\npercolating network of nanoparticles. The different colors represent groups of particles that are in contact with one another. The zoomed region shows a schematic of\\nthe growth of an atomic filament within a tunnel gap (switching event) when a voltage is applied. Bottom: The same network schematic presented so as to show the\\nconducting pathways (black) that result from atomic filament formation within the gaps between groups. (B) Schematic showing the conductance of a device during\\ndeposition of conducting nanoparticles follows (28) a power law ~(p −pc)1.3 (30) (the critical surface coverage is pc ~68%). arb, arbitrary units. (C) A scanning electron\\nmicroscope image of a percolating device. Scale bar, 200 nm. (D) Schematic diagrams showing the following: left—in the subcritical, insulating phase at low coverage,\\ngroups of particles are small and well separated, so that if an atomic switch connects two groups, then there are few possibilities that this will trigger another switching\\nevent; right—in the supercritical, conducting phase at higher coverages, highly connected pathways across the network mean that when an atomic filament bridges a\\ntunnel gap, an avalanche can propagate only to a few nearby tunnel gaps; center—in the critical phase, avalanches propagate on multiple length and time scales. See\\nalso fig. S2 for further details.\\nS C I E N C E A D V A N C E S | R E S E A R C H A R T I C L E\\nMallinson et al., Sci. Adv. 2019;5:eaaw8438\\n1 November 2019\\n1 of 7\\nDownloaded from https://www.science.org on September 20, 2024\\n', mimetype='text/plain', start_char_idx=None, end_char_idx=None, text_template='{metadata_str}\\n\\n{content}', metadata_template='{key}: {value}', metadata_seperator='\\n'),\n",
       " Document(id_='9e89b6ba-1947-4ba4-b07d-6fd14b69d7e2', embedding=None, metadata={'total_pages': 7, 'file_path': 'data/paper.pdf', 'source': '2'}, excluded_embed_metadata_keys=[], excluded_llm_metadata_keys=[], relationships={}, text='important feature of both in vivo and in vitro recordings of neuronal\\nsignals (24–27), and substantial evidence has accumulated that the brain\\nitself operates at a self-organized critical point (20), which optimizes\\ninformation processing, memory, and information transfer (15–19).\\nTherefore, in designing brain-inspired computational systems, it is\\nnatural to look for systems that might exhibit similar critical behavior\\nand, especially, systems that would allow electronic signal processing.\\nThe percolation transition\\nPercolating systems (28) are obvious candidates for investigation\\nsince the concept of percolation (Fig. 1) is central to discussions\\nof criticality and avalanches (17). The two-dimensional percolating\\nsystem of interest here comprises conducting nanoparticles deposited\\non an insulating substrate (29) (Fig. 1A). During deposition (see\\nMaterials and Methods), particles come into contact and form groups\\nthat are separated from each other by tunnel gaps. The groups increase\\nin size and complexity as more particles are deposited until the onset\\nof conduction across the system (Fig. 1, B and D) when the fraction of\\nthe surface that is covered with conducting elements is pc ~68% (28–31).\\nThis onset marks the percolation threshold, which is a critical point be-\\ntween insulating and conducting phases (28) at which avalanches might\\nbe expected to propagate (17) (see next paragraph). We hypothesized\\nthat when poised at this phase transition, the percolating assembly of\\nnanoparticles might be promising for neuromorphic computing since\\n(i) the correlation length diverges (28) and so long-range correlations\\nare expected; (ii) it has previously been established that synapse-like\\natomic-scale switching processes occur in the tunnel gaps (29); (iii) de-\\nvices are stable over periods of months (32) as required for real-world\\napplications; and (iv) the complex networks are self-organized by simple,\\ncost-effective processes (32).\\nNear the percolation threshold, tunneling across gaps between\\nparticles contributes to the conductivity of the network (see Fig. 1 and\\nfig. S1), and it is necessary to go beyond standard approaches to\\ncontinuum percolation that consider only ohmic connections between\\nwell-connected particles (28). Percolating-tunneling systems have,\\nhowever, received relatively little theoretical attention [see (31, 33)\\nand references therein), and quantities such as the relevant percolation\\ncritical exponents are yet to be calculated. Experimentally, it is ob-\\nserved that external electrical stimuli cause conductive filaments to\\nbe continually formed and broken within the tunnel gaps (Fig. 1A,\\ninsets) (29), leading to a complex and dynamical network comprising\\nconducting pathways, switches, and tunnel junctions (further\\nillustrated in fig. S2).\\nBehavior of critical networks\\nThe importance of criticality for neuromorphic computing was dis-\\ncussed in previous work on silver nanowire networks (13), but criti-\\ncality in self-organized nanodevices has never been investigated\\nsystematically. Here, we investigate criticality in percolating nanopar-\\nticle networks using analysis techniques similar to those previously\\nused on recordings of neuronal signals (24–27).\\nFigure 1 and fig. S2 show how avalanches are generated in the\\ndynamical percolating network. When an atomic switch is activated\\nin one tunnel gap, consequent changes in the electric field (and cur-\\nrent) in other tunnel gaps cause further events at other locations in\\nthe network (34). That is, each successive switching event leads to\\nothers, creating an avalanche. As illustrated in Fig. 1D and fig. S2, the\\nsurface coverage is important in controlling the network connectivity:\\nIf too many (or too few) events are triggered, then the avalanche will\\naccelerate uncontrollably (or die quickly)—critical dynamics are\\nFig. 2. Spatial and temporal self-similarity and correlation in switching activity. (A) Percolating devices produce complex patterns of switching events that are\\nself-similar in nature. The top panel contains 2400 s of data, with the bottom panels showing segments of the data with 10, 100, and 1000 times greater temporal\\nmagnification and with 3, 9, and 27 times greater magnification on the vertical scale (units of G0 = 2e2/h, the quantum of conductance, are used for convenience). The\\nactivity patterns appear qualitatively similar on multiple different time scales. (B and E) The probability density function (PDF) for changes in total network conductance,\\nP(DG), resulting from switching activity exhibits heavy-tailed probability distributions. (C and F) IEIs follow power law distributions, suggestive of correlations between\\nevents. (D and G) Further evidence of temporal correlation between events is given by the autocorrelation function (ACF) of the switching activity (red), which decays\\nas a power law over several decades. When the IEI sequence is shuffled (gray), the correlations between events are destroyed, resulting in a significant increase in slope\\nin the ACF. The data shown in (B) to (D) (sample I) were obtained with our standard (slow) sampling rate, and the data shown in (E) to (G) (sample II) were measured\\n1000 times faster (see Materials and Methods), providing further evidence for self-similarity.\\nS C I E N C E A D V A N C E S | R E S E A R C H A R T I C L E\\nMallinson et al., Sci. Adv. 2019;5:eaaw8438\\n1 November 2019\\n2 of 7\\nDownloaded from https://www.science.org on September 20, 2024\\n', mimetype='text/plain', start_char_idx=None, end_char_idx=None, text_template='{metadata_str}\\n\\n{content}', metadata_template='{key}: {value}', metadata_seperator='\\n'),\n",
       " Document(id_='964d13cf-f78a-4cfe-816e-677c0ef0e78c', embedding=None, metadata={'total_pages': 7, 'file_path': 'data/paper.pdf', 'source': '3'}, excluded_embed_metadata_keys=[], excluded_llm_metadata_keys=[], relationships={}, text='characterized by power law distributions in which there is no single\\ncharacteristic length or time scale (17) and in which there is a small\\nbut important chance that very large avalanches are observed [see\\nFig. 1, fig. S2, and (15)]. While the propagation of avalanches is\\ncommonly described as a percolation phenomenon (17), avalanches\\nhave not previously been reported in percolating networks.\\nRESULTS\\nAvalanches of electrical signals and correlations\\nThe simple contact geometry (Fig. 1A) allows us to sensitively observe\\nelectrical signals from the entire network, and Fig. 2A shows complex\\npatterns of switching events [observed as discrete changes in the de-\\nvice conductance (G)], which are qualitatively similar to those observed\\ndue to neuronal avalanches in cortical tissue (24–27). Figure 2A high-\\nlights the self-similar nature of the avalanches, with characteristic bursts\\nof activity on multiple time scales. Quantitative analysis of the ava-\\nlanches is discussed below. Figure 2 (B and E) shows that the measured\\nchanges in conductance (DG) range over about three orders of magni-\\ntude, with different signalsizes reflecting the locations of the switches on\\ndifferent pathways through the highly branched network. The\\ndistribution of measured DG values is heavy tailed (Fig. 2, B and E),\\nconsistent with spatial self-similarity in percolating structures (35).\\nHistograms of interevent intervals (IEIs) (Fig. 2, C and F) show\\nclear power law behavior, implying scale-free dynamics. The cor-\\nresponding autocorrelation functions (ACFs) are shown in Fig. 2\\n(D and G). Again, power law behavior is observed. The data shown\\nin Fig. 2 (D and G) are obtained with sampling rates that are different\\nby a factor of a thousand, and yet the power law exponents (b) ob-\\ntained are almost identical (b ~0.2). Together, these data cover more\\nthan five orders of magnitude in time and provide strong evidence\\nfor temporal self-similarity (36). However, so-called renewal pro-\\ncesses, where successive IEIs are uncorrelated, can also exhibit power\\nlaw ACFs (37), and so we show in Fig. 2 (D and G) the ACFs obtained\\nwhen the sequence of IEIs is randomly shuffled to destroy any cor-\\nrelations. The experimental data have a much smaller slope than the\\nshuffled data, indicating long-range temporal correlations (36). We\\nnote that in the neuroscience literature, it is often difficult to directly\\nmeasure ACFs, and so detrended fluctuation analysis is commonly used\\nto quantify correlations [see (36, 38) and citations therein]. For compar-\\nison, we use the relationship b = 2 −2H (38) to estimate the Hurst\\nexponent (H). We find H ~0.9, consistent with the strong correlations\\ndescribed below. This is a first piece of evidence for highly correlated\\nactivity in our networks, but the more detailed analysis below is required\\nto unambiguously demonstrate avalanches and criticality.\\nDemonstration of criticality\\nIn critical systems, the sizes (S) and durations (T) of avalanches\\nhave probability density functions (PDFs) that follow well-defined\\npower law distributions\\nPðSÞeS–t\\nð1Þ\\nPðTÞeT–a\\nð2Þ\\nand the mean sizes of the avalanches are related to their durations by\\n〈S〉ðTÞ∼T1=snz\\nð3Þ\\nFig. 3. Statistical distributions of avalanche properties and shape collapse. The distributions shown in (A) to (E) (sample I, slow sampling rate) and (F) to (J) (sample\\nII, fast sampling rate) demonstrate the existence of self-similar avalanches across multiple time scales. (A and F) PDFs of avalanche size and (B and G) PDFs of avalanche\\nduration both follow power laws with exponents t ≈2 and a ≈2.7, respectively, providing strong evidence for temporal correlations. Red, distribution presented using\\nstandard (linear) bin sizes; blue, distribution presented using logarithmic bin sizes to allow visualization of the heavy tail; gray, distribution after shuffling of the\\nsequence of IEIs in the original data to destroy correlations. (C and H) The mean avalanche sizes are a power law function of their duration with exponent 1/snz ≈1.6.\\n(D and I) The mean avalanche shapes for each unique duration are shown to collapse (E and J, respectively) onto scaling functions (black lines). This shape collapse\\nyields an independent measure of the critical exponent 1/snz ≈1.6. As discussed in the main text and shown explicitly in Fig. 4, the values of the critical exponents t, a,\\nand 1/snz satisfy the crackling relationship (Eq. 4) within the measurement uncertainties.\\nS C I E N C E A D V A N C E S | R E S E A R C H A R T I C L E\\nMallinson et al., Sci. Adv. 2019;5:eaaw8438\\n1 November 2019\\n3 of 7\\nDownloaded from https://www.science.org on September 20, 2024\\n', mimetype='text/plain', start_char_idx=None, end_char_idx=None, text_template='{metadata_str}\\n\\n{content}', metadata_template='{key}: {value}', metadata_seperator='\\n'),\n",
       " Document(id_='710b7ff3-e97d-4e6d-ae33-41e577c1b525', embedding=None, metadata={'total_pages': 7, 'file_path': 'data/paper.pdf', 'source': '4'}, excluded_embed_metadata_keys=[], excluded_llm_metadata_keys=[], relationships={}, text='where 1/snz is a key characteristic exponent (23). As explained in (39),\\nin critical systems, the estimate of 1/snz obtained from Eq. 3 should\\nbe consistent with that estimated from the “crackling relationship”\\n1=snz ¼ ða \\x02 1Þ=ðt \\x02 1Þ\\nð4Þ\\nIn addition, the shapes of the avalanches should also exhibit a\\ncharacteristic “collapse” onto a single curve (23, 25, 40), yielding an\\nadditional independent estimate of 1/snz. To demonstrate criticality\\n(i.e., to distinguish from other processes, such as random walks, that\\ncan also lead to power law distributed avalanches), these three\\nindependent estimates of 1/snz must be in agreement (23, 27, 39).\\nAvalanches in our percolating networks have sizes and durations\\n(see Materials and Methods) that are distributed in accordance with\\npower laws (Eqs. 1 and 2), as shown in Fig. 3 (A and F) and Fig. 3 (B\\nand G). After shuffling the sequence of IEIs in the original data, cor-\\nrelations are destroyed, and both distributions become exponential\\n(gray curves) (41), confirming that the original data are highly\\ncorrelated. Figure 3 (C and H) shows that the mean avalanche size\\n(〈S〉) depends on avalanche duration (T) as expected from Eq. 3, with\\n1/snz ~1.6. Physically, the slope of the 〈S〉(T) plots is related to the\\nfractal dimension of the avalanches (23).\\nFigure 3 (D, E, I, and J) shows that the avalanches exhibit shape\\ncollapse. As is the case for neuronal recordings (25, 40), this requires\\nan enormous number of avalanches and necessarily yields an estimate\\nof 1/snz that has a relatively large uncertainty. The avalanche profiles\\nare consistent with the parabolic scaling functions reported for neuro-\\nnal avalanches (25). Detailed investigation of avalanche shapes may\\neventually yield further understanding of the underlying processes\\n(42, 43), but such an analysis would require a much larger amount\\nof data so as to improve the signal-to-noise ratio in these plots.\\nNevertheless, as shown in Fig. 4, the values of 1/snz obtained from\\nshape collapse are consistent with those obtained from the crackling\\nrelationship (Eq. 4) and the mean avalanche sizes (Eq. 3). We empha-\\nsize that the important feature of Fig. 4 is that in almost every case, the\\nblue, cyan, and green symbols agree within the uncertainties. This is\\ntrue for a number of devices, for a range of stimuli, and for repeated\\nindependent measurements on the same devices. The fact that all three\\nestimates of 1/snz are in agreement is very strong evidence for criti-\\ncality in our percolating devices (39). The agreement of all estimates\\nof 1/snz even while a and t vary (Fig. 4) is evidence for self-tuned\\ncriticality (18).\\nDISCUSSION\\nThe avalanches of switching events observed here exhibit statistics that\\nare qualitatively and quantitatively similar to those of the avalanches\\nobserved in cortical tissue (25, 41) and in very recent work on whole\\norganisms (26). Within the brain, criticality is hypothesized to play a\\nrole in cognition, adaptive behavior, and disease diagnosis and under-\\npins several therapeutic and diagnostic opportunities (19). Criticality\\nin our system originates from long-range spatiotemporal correlations\\nin the network of atomic switches, as required (18) for neuromorphic\\ncomputing strategies such as RC (10).\\nIn RC, spatiotemporal correlations are required to allow projection\\nof input signals into higher-dimensional spaces; corresponding output\\nsignals can then be combined using linear regression to perform com-\\nputational tasks such as classification, pattern recognition, and time\\nseries prediction (10–12). The need to build critical systems to provide\\na platform for RC has previously been highlighted in (17, 18). Our per-\\ncolating networks meet that need.\\nPrevious demonstrations of RC using nanoscale devices have relied\\non small numbers of device elements (11, 12) because integration\\ninto appropriate physical networks is challenging and/or expensive.\\nFig. 4. Demonstration of criticality. Estimates of three independent measures\\nof 1/snz are obtained from the crackling relationship (green), plots of mean ava-\\nlanche size given duration (blue), and avalanche shape collapse (cyan). The blue,\\ncyan, and green symbols agree within the measurement uncertainty in almost\\nevery case. Each panel also shows the power law exponents of avalanche size\\n(t; red) and avalanche duration (a; amber). (A) Critical exponents for sample I over\\na range of low voltages and for a combined dataset (low sampling rate; see\\nMaterials and Methods), showing that the critical exponents are substantially\\nindependent of voltage. (B) Comparison of critical exponents measured for sample\\nII for repeated, independent 6 V DC measurements (fast sampling rate; see Materials\\nand Methods). (C) Critical exponents for sample III as a function of voltage (slow\\nsampling rate). (D) Data from a second sequence of measurements on sample III\\nidentical to that in (C), showing that while the exponents a and t vary because\\nof internal reconfigurations of the percolating device, the three estimates of 1/snz\\nremain in good agreement at every voltage. (E and F) Voltage-dependent data from\\nsample IV (E and F, fast and slow sampling rates, respectively), showing that critical-\\nity and self-similarity are observed on vastly different time scales. The mean values\\nof 1/snz were found to be 1.46 ± 0.05, 1.40 ± 0.03, and 1.40 ± 0.04 from the crackling\\nrelationship, 〈S〉(T) and shape collapse, respectively (uncertainties are 1 SD), indicat-\\ning that there is no significant difference between the estimates from the three\\nindependent methods. This is confirmed by a single-factor analysis of variance\\n(ANOVA) test (P = 0.47). The (t, a) data are replotted in fig. S6 to allow a different\\ncomparison with the three calculations of 1/snz (27).\\nS C I E N C E A D V A N C E S | R E S E A R C H A R T I C L E\\nMallinson et al., Sci. Adv. 2019;5:eaaw8438\\n1 November 2019\\n4 of 7\\nDownloaded from https://www.science.org on September 20, 2024\\n', mimetype='text/plain', start_char_idx=None, end_char_idx=None, text_template='{metadata_str}\\n\\n{content}', metadata_template='{key}: {value}', metadata_seperator='\\n'),\n",
       " Document(id_='1464c511-8609-4fa5-9929-6b2c9882b970', embedding=None, metadata={'total_pages': 7, 'file_path': 'data/paper.pdf', 'source': '5'}, excluded_embed_metadata_keys=[], excluded_llm_metadata_keys=[], relationships={}, text='Furthermore, it is not clear that complex/critical networks could be\\nachieved using lithographic processing. In contrast, the straightforward\\ndeposition methods used here immediately provide the required\\ncomplex network of switches, are inexpensive, and allow electronic\\nreadout of correlated signals from the network as required for integra-\\ntion with other electronic components. We believe our processes are\\nscalable because they are compatible with standard complementary\\nmetal-oxide semiconductor (CMOS) processing.\\nOur percolating networks are naturally suited to RC since deposi-\\ntion onto multielectrode arrays will straightforwardly provide the\\nrequired multiple inputs and outputs. Ultimately, we envisage ar-\\nchitectures in which the percolating network is deposited onto chips\\nwith predefined CMOS circuitry that processes input and output\\nsignals. The question of how best to code input/output signals for par-\\nticular computational tasks has so far been given little consideration in\\nthe RC literature and will require further investigation since combina-\\ntions of temporal and spatial input/output coding are possible (12).\\nWe believe that percolating devices could provide many further op-\\nportunities for brain-like computing; for example, three-dimensional\\npercolating systems could provide additional network complexity.\\nWhile our attempts to tune the operating point of the system by vary-\\ning the surface coverage were unsuccessful (see Materials and Methods),\\nit may yet be possible to tune the system through the critical point using\\nother external control parameters. In addition, strategies can be envis-\\naged that would incorporate a wide range of alternative switching\\nelements within the networks, such as phase-change materials, oxide-\\nbased memristors, and electrochemical switches (6–9). Last, we\\nhighlight the need for theoretical work/simulations to support device\\ndevelopment. Percolating-tunneling networks have so far been rela-\\ntively little studied (31, 33), and important quantities such as the degree\\ndistribution for network connections (21), percolation critical expo-\\nnents (28), and precise universality class (23) are yet to be elucidated.\\nMATERIALS AND METHODS\\nDevice fabrication\\nOur percolating devices were fabricated by simple nanoparticle\\ndeposition processes (32, 44). Seven-nanometer Sn nanoparticles were\\ndeposited between gold electrodes (spacing, 100 mm) on a silicon ni-\\ntride surface. Deposition was terminated at the onset of conduction,\\nwhich corresponds to the percolation threshold (28, 44). The deposi-\\ntion takes place in a controlled environment with a well-defined par-\\ntial pressure of air and humidity, as described in (32). This process\\nleads to controlled coalescence and fabrication of robust structures,\\nwhich function for many months but which yet allow atomic-scale\\nswitching processes to take place unhindered. The individual atomic-\\nscalefilamentsformedwithintunnelinggapsexhibitquantizedconduction\\n(29), but, as shown in fig. S1 (E and F), the complex percolating-\\ntunneling network comprises many parallel and series paths, and so\\nthe device conductance is not quantized.\\nAs described in the discussion of Fig. 4, data from all devices\\npresented here are consistent with criticality. To explore noncritical\\nnetworks, several devices were fabricated with surface coverages that\\nwere either below or above the percolation threshold (see Fig. 1, B and\\nD). In all cases, however, it was not possible to observe avalanches of\\nevents. When stimulated, low-coverage devices exhibit a number of ir-\\nreversible drops in conductance and rapidly become open circuit:\\nAtomic switches can be opened, but the prevalence of large gaps in\\nthe network makes closing switches difficult. High-coverage devices ex-\\nhibit no switching events for small stimulus voltages and exhibit ir-\\nreversible drops in conductance for larger stimulus voltages due to\\nmelting of particles when large currents flow.\\nElectrical stimulus and measurement\\nElectrical stimuli were applied to the contact on one side of the\\npercolating device, while the opposite edge of the system was held at\\nground potential. While a variety of types of stimuli (voltage pulses\\nand ramps) can be applied to the system, constant DC voltages were\\nused in this work because they facilitate observation of ongoing recon-\\nfigurations of the states of the switches in the devices and, in particular,\\nthe analysis of avalanches (see below). Measurements over long time\\nperiods are also necessary to avoid significant cutoffs in the power law\\ndistributions (17). Here, we presented data from DC stimulus of four\\ndevices, but the data presented are consistent with that obtained from\\nDC, pulsed, and ramped voltage stimulus of a further 10 devices.\\nOur electrical measurements were performed using two distinct\\nsets of measurement electronics to allow measurement of the device\\nconductance on two distinct time scales. The first method relies on a\\npicoammeter and is limited to a relatively slow sampling rate (0.1 s\\nsampling interval). The second method uses a fast digital oscilloscope\\nto allow a much higher sampling rate (200 ms sampling interval for the\\ndata presented here). As shown in Figs. 2 to 4, both methods resulted\\nin qualitatively and quantitatively similar data, with similar power law\\nexponents for each of the main quantities of interest. Hence, our\\nresults and conclusions are not influenced by the sampling rate.\\nData analysis\\nThe data analysis methods used in this work are substantially the\\nsame as those developed in the neuroscience community to analyze\\nmicroelectrode array recordings from biological brain tissue (24–27).\\nEvents are defined as changes in the conductance signal that exceed a\\nthreshold value. We show in fig. S3 that, as in the neuroscience liter-\\nature, the choice of threshold in a reasonable range does not signifi-\\ncantly affect the avalanche analysis. Avalanches were defined following\\nthe procedure described in (24, 45): The data were analyzed by defining\\ntime bins with width equal to the mean IEI (24), and the duration of\\nthe avalanche was defined as the number of consecutive nonempty\\nbins between empty bins. Figure S4 shows the effect of bin size on\\nthe avalanche analysis.\\nPower law exponents and “fitting” processes\\nWe followed the maximum likelihood (ML) approach of (46), as im-\\nplemented in the Neural Complexity and Criticality MATLAB tool-\\nbox by (45), to statistically validate criticality. For all data that can be\\nplotted in the form of a PDF (IEIs, S, and T), the ML estimators were\\nobtained for both power law and exponential distributions. We used\\nthe Bayesian information criterion (47) to identify which distribution\\nis more likely and find in all cases that it is the power law (46), as\\nshown in fig. S5.\\nWe generated 500 random power laws using the calculated ML\\nestimators and iterated the choice of cutoffs (xmin and xmax) for the data\\nrange, finding the probability of obtaining a Kolmogorov-Smirnov (KS)\\ndistance (46) at least as great as for that of experimental data. In all cases,\\nwe failed to reject the null hypothesis that avalanche distributions are\\npower law distributed (we required P > 0.2). Conversely, we rejected the\\nnull hypothesis that avalanche distributions are power law distributed\\nfor shuffled data (see Fig. 3, A, B, F, and G) (41), i.e., when we removed\\nthe correlations in the experimental avalanche data, we found that the\\nS C I E N C E A D V A N C E S | R E S E A R C H A R T I C L E\\nMallinson et al., Sci. Adv. 2019;5:eaaw8438\\n1 November 2019\\n5 of 7\\nDownloaded from https://www.science.org on September 20, 2024\\n', mimetype='text/plain', start_char_idx=None, end_char_idx=None, text_template='{metadata_str}\\n\\n{content}', metadata_template='{key}: {value}', metadata_seperator='\\n'),\n",
       " Document(id_='23f8553a-8d4f-48c4-ae2a-af6b805be3ca', embedding=None, metadata={'total_pages': 7, 'file_path': 'data/paper.pdf', 'source': '6'}, excluded_embed_metadata_keys=[], excluded_llm_metadata_keys=[], relationships={}, text='distributions are exponential: The correlations and avalanches are in-\\ntimately linked.\\nThe KS test is extremely sensitive to small deviations from a\\nmathematical power law (45), and since neuronal avalanche data\\nare commonly observed to have curvature at small x values (48), a\\nminimum x value was introduced (46). The deviation from power\\nlaw behavior in our data is rather small (see Figs. 2 and 3), but we\\nnevertheless followed (45, 46) and allowed the data to be truncated to\\nshow definitively that the distributions are power law. The IEI dis-\\ntributions were found to be power law over about two orders of mag-\\nnitude in time, with both a lower and upper cutoff. The avalanche\\nsize and duration distributions are always found to be power law up\\nto the maximum range of the data, i.e., the data are power law over at\\nleast three orders of magnitude for the sizes and two for the durations.\\nIn all plots shown here, the range in which the power law model is in\\nagreement with the data is indicated by the solid line. The estimated\\nuncertainties in a and t are ±0.1. Uncertainties estimated from the ML\\nprocedure are smaller but do not reflect the scatter in the data.\\nThe ML methods cannot be applied to data which is not in the\\nform of a probability distribution, and so, as in (23, 25, 45), stan-\\ndard linear regression techniques were used to obtain the measured\\nexponents for 〈S〉(T) and A(t).\\nSUPPLEMENTARY MATERIALS\\nSupplementary material for this article is available at http://advances.sciencemag.org/cgi/\\ncontent/full/5/11/eaaw8438/DC1\\nFig. S1. Illustration of different types of two-dimensional (2D) percolation model.\\nFig. S2. Illustration of 2D percolation with tunneling and atomic switches.\\nFig. S3. Choice of threshold.\\nFig. S4. Choice of time bin size.\\nFig. S5. Comparison of power law and other fits to the avalanche size and duration\\ndistributions.\\nFig. S6. Scatter plot of a(t).\\nREFERENCES AND NOTES\\n1. P. A. Merolla, J. V. Arthur, R. Alvarez-Icaza, A. S. Cassidy, J. Sawada, F. Akopyan,\\nB. L. Jackson, N. Imam, C. Guo, Y. Nakamura, B. Brezzo, I. Vo, S. K. Esser, R. Appuswamy,\\nB. Taba, A. Amir, M. D. Flickner, W. P. Risk, R. Manohar, D. S. Modha, Artificial brains.\\nA million spiking-neuron integrated circuit with a scalable communication network and\\ninterface. Science 345, 668–673 (2014).\\n2. M. Hopkins, G. Pineda-García, P. A. Bogdan, S. B. Furber, Spiking neural networks for\\ncomputer vision. Interface Focus 8, 20180007 (2018).\\n3. Z. Wang, S. Joshi, S. Savel’ev, W. Song, R. Midya, Y. Li, M. Rao, P. Yan, S. Asapu, Y. Zhuo,\\nH. Jiang, P. Lin, C. Li, J. H. Yoon, N. K. Upadhyay, J. Zhang, M. Hu, J. P. Strachan,\\nM. Barnell, Q. Wu, H. Wu, R. S. Willimas, Q. Xia, J. J. Yang, Fully memristive neural\\nnetworks for pattern classification with unsupervised learning. Nat. Electron. 1,\\n137–145 (2018).\\n4. P. M. Sheridan, F. Cai, C. du, W. Ma, Z. Zhang, W. D. Lu, Sparse coding with memristor\\nnetworks. Nat. Nanotechnol. 12, 784–789 (2017).\\n5. M. Prezioso, F. Merrikh-Bayat, B. D. Hoskins, G. C. Adam, K. K. Likharev, D. B. Strukov,\\nTraining and operation of an integrated neuromorphic network based on metal-oxide\\nmemristors. Nature 521, 61–64 (2015).\\n6. G. W. Burr, R. M. Shelby, A. Sebastian, S. Kim, S. Kim, S. Sidler, K. Virwani, M. Ishii,\\nP. Narayanan, A. Fumarola, L. L. Sanches, I. Boybat, M. Le Gallo, K. Moon, J. Woo,\\nH. Hwang, Y. Leblebici, Neuromorphic computing using non-volatile memory.\\nAdv. Phys. 2, 89–124 (2017).\\n7. K. Terabe, T. Hasegawa, T. Nakayama, M. Aono, Quantized conductance atomic switch.\\nNature 433, 47–50 (2005).\\n8. T. Tuma, A. Pantazi, M. Le Gallo, A. Sebastian, E. Eleftheriou, Stochastic phase-change\\nneurons. Nat. Nanotechnol. 11, 693–699 (2016).\\n9. Z. Wang, S. Joshi, S. E. Savel’ev, H. Jiang, R. Midya, P. Lin, M. Hu, N. Ge, J. P. Strachan, Z. Li,\\nQ. Wu, M. Barnell, G. L. Li, H. L. Xin, R. S. Williams, Q. Xia, J. J. Yang, Memristors with\\ndiffusive dynamics as synaptic emulators for neuromorphic computing. Nat. Mater. 16,\\n101–108 (2017).\\n10. M. Lukoševičius, H. Jaeger, Reservoir computing approaches to recurrent neural network\\ntraining. Comput. Sci. Rev. 3, 127–149 (2009).\\n11. J. Torrejon, M. Riou, F. A. Araujo, S. Tsunegi, G. Khalsa, D. Querlioz, P. Bortolotti, V. Cros,\\nK. Yakushiji, A. Fukushima, H. Kubota, S. Yuasa, M. D. Stiles, J. Grollier, Neuromorphic\\ncomputing with nanoscale spintronic oscillators. Nature 547, 428–431 (2017).\\n12. C. Du, F. Cai, M. A. Zidan, W. Ma, S. H. Lee, W. D. Lu, Reservoir computing using\\ndynamic memristors for temporal information processing. Nat. Commun. 8, 2204\\n(2017).\\n13. A. Z. Stieg, A. V. Avizienis, H. O. Sillin, C. Martin-Olmos, M. Aono, J. K. Gimzewski, Emergent\\ncriticality in complex turing B-type atomic switch networks. Adv. Mater. 24, 286–293\\n(2012).\\n14. W. Maass, T. Natschläger, H. Markram, Real-time computing without stable states: A new\\nframework for neural computation based on perturbations. Neural Comput. 14,\\n2531–2560 (2002).\\n15. W. L. Shew, D. Plenz, The functional benefits of criticality in the cortex. Neuroscientist 19,\\n88–100 (2012).\\n16. O. Kinouchi, M. Copelli, Optimal dynamical range of excitable networks at criticality.\\nNat. Phys. 2, 348–351 (2006).\\n17. M. A. Muñoz, Colloquium: Criticality and dynamical scaling in living systems.\\nRev. Mod. Phys. 90, 031001 (2018).\\n18. N. Srinivasa, N. D. Stepp, J. Cruz-Albrecht, Criticality as a set-point for adaptive behavior in\\nneuromorphic hardware. Front. Neurosci. 9, 449 (2015).\\n19. L. Cocchi, L. L. Gollo, A. Zalesky, M. Breakspear, Criticality in the brain: A synthesis of\\nneurobiology, models and cognition. Prog. Neurobiol. 158, 132–152 (2017).\\n20. D. R. Chialvo, Emergent complex neural dynamics. Nat. Phys. 6, 744–750 (2010).\\n21. R. Albert, A.-L. Barabási, Statistical mechanics of complex networks. Rev. Mod. Phys. 74,\\n47–97 (2002).\\n22. D. Fraiman, P. Balenzuela, J. Foss, D. R. Chialvo, Ising-like dynamics in large-scale\\nfunctional brain networks. Phys. Rev. E. 79, 061922 (2009).\\n23. J. P. Sethna, K. A. Dahmen, C. R. Myers, Crackling noise. Nature 410, 242–250 (2001).\\n24. J. M. Beggs, D. Plenz, Neuronal avalanches in neocortical circuits. J. Neurosci. 23,\\n11167–11177 (2003).\\n25. N. Friedman, S. Ito, B. A. W. Brinkman, M. Shimono, R. E. L. DeVille, K. A. Dahmen,\\nJ. M. Beggs, T. C. Butler, Universal critical dynamics in high resolution neuronal avalanche\\ndata. Phys. Rev. Lett. 108, 208102 (2012).\\n26. A. Ponce-Alvarez, A. Jouary, M. Privat, G. Deco, G. Sumbre, Whole-brain neuronal activity\\ndisplays crackling noise dynamics. Neuron 100, 1446–1459.e6 (2018).\\n27. A. J. Fontenele, N. A. P. de Vasconcelos, T. Feliciano, L. A. A. Aguiar, C. Soares-Cunha,\\nB. Coimbra, L. Dalla Porta, S. Ribeiro, A. J. Rodrigues, N. Sousa, P. V. Carelli, M. Copelli,\\nCriticality between cortical states. Phys. Rev. Lett. 122, 208101 (2019).\\n28. D. Stauffer, A. Aharony, Introduction To Percolation Theory (CRC Press, ed. 2, 1992).\\n29. A. Sattar, S. Fostner, S. A. Brown, Quantized conductance and switching in percolating\\nnanoparticle films. Phys. Rev. Lett. 111, 136808 (2013).\\n30. A. D. F. Dunbar, J. G. Partridge, M. Schulze, S. A. Brown, Morphological differences\\nbetween Bi, Ag and Sb nano-particles and how they affect the percolation of current\\nthrough nano-particle networks. Eur. Phys. J. D 39, 415–422 (2006).\\n31. S. Fostner, R. Brown, J. Carr, S. A. Brown, Continuum percolation with tunneling. Phys. Rev.\\nB 89, 075402 (2014).\\n32. S. K. Bose, J. B. Mallinson, R. M. Gazoni, S. A. Brown, Stable self-assembled atomic-switch\\nnetworks for neuromorphic applications. IEEE Trans. Electron Devices 64, 5194–5201\\n(2017).\\n33. C. Grimaldi, Theory of percolation and tunneling regimes in nanogranular metal films.\\nPhys. Rev. B 89, 214201 (2014).\\n34. S. Fostner, S. A. Brown, Neuromorphic behavior in percolating nanoparticle films. Phys.\\nRev. E Stat. Nonlin. Soft Matter Phys. 92, 052134 (2015).\\n35. R. F. Voss, The fractal dimension of percolation cluster hulls. J. Phys. A 17, L373–L377\\n(1984).\\n36. J. M. Palva, A. Zhigalov, J. Hirvonen, O. Korhonen, K. Linkenkaer-Hansen, S. Palva,\\nNeuronal long-range temporal correlations and avalanche dynamics are correlated with\\nbehavioral scaling laws. Proc. Natl. Acad. Sci. U.S.A. 110, 3585–3590 (2013).\\n37. S. B. Lowen, M. C. Teich, Fractal renewal processes generate 1/f noise. Phys. Rev. E 47,\\n992–1001 (1993).\\n38. C. Meisel, K. Bailey, P. Achermann, D. Plenz, Decline of long-range temporal correlations\\nin the human brain during sustained wakefulness. Sci. Rep. 7, 11825 (2017).\\n39. J. Touboul, A. Destexhe, Power-law statistics and universal scaling in the absence of\\ncriticality. Phys. Rev. E 95, 012413 (2017).\\n40. N. M. Timme, N. J. Marshall, N. Bennett, M. Ripp, E. Lautzenhiser, J. M. Beggs, Criticality\\nmaximizes complexity in neural tissue. Front. Physiol. 7, 425 (2016).\\n41. W. L. Shew, W. P. Clawson, J. Pobst, Y. Karimipanah, N. C. Wright, R. Wessel, Adaptation to\\nsensory input tunes visual cortex to criticality. Nat. Phys. 11, 659–663 (2015).\\n42. A. Baldassarri, F. Colaiori, C. Castellano, Average shape of a fluctuation: Universality in\\nexcursions of stochastic processes. Phys. Rev. Lett. 90, 060601 (2003).\\nS C I E N C E A D V A N C E S | R E S E A R C H A R T I C L E\\nMallinson et al., Sci. Adv. 2019;5:eaaw8438\\n1 November 2019\\n6 of 7\\nDownloaded from https://www.science.org on September 20, 2024\\n', mimetype='text/plain', start_char_idx=None, end_char_idx=None, text_template='{metadata_str}\\n\\n{content}', metadata_template='{key}: {value}', metadata_seperator='\\n'),\n",
       " Document(id_='8217aa40-b249-4407-a1aa-69c47a27f73a', embedding=None, metadata={'total_pages': 7, 'file_path': 'data/paper.pdf', 'source': '7'}, excluded_embed_metadata_keys=[], excluded_llm_metadata_keys=[], relationships={}, text='43. J. A. Roberts, K. K. Iyer, S. Finnigan, S. Vanhatalo, M. Breakspear, Scale-free bursting in\\nhuman cortex following hypoxia at birth. J. Neurosci. 34, 6557–6572 (2014).\\n44. J. Schmelzer Jr., S. A. Brown, A. Wurl, M. Hyslop, R. J. Blaikie, Finite-size effects\\nin the conductivity of cluster assembled nanostructures. Phys. Rev. Lett. 88, 226802\\n(2002).\\n45. N. Marshall, N. M. Timme, N. Bennett, M. Ripp, E. Lautzenhiser, J. M. Beggs, Analysis of\\npower laws, shape collapses, and neural complexity: New techniques and MATLAB\\nsupport via the NCC toolbox. Front. Physiol. 7, 250 (2016).\\n46. A. Clauset, C. R. Shalizi, M. E. J. Newman, Power-law distributions in empirical data.\\nSIAM Rev. 51, 661–703 (2009).\\n47. S. I. Vrieze, Model selection and psychological theory: A discussion of the differences\\nbetween the Akaike information criterion (AIC) and the Bayesian information criterion\\n(BIC). Psychol. Methods 17, 228–243 (2012).\\n48. M. Yaghoubi, T. de Graaf, J. G. Orlandi, F. Girotto, M. A. Colicos, J. Davidsen, Neuronal\\navalanche dynamics indicates different universality classes in neuronal cultures. Sci. Rep.\\n8, 3417 (2018).\\nAcknowledgments: We thank D. O’Neale, M. Plank, and D. Stouffer for helpful discussions\\nand support with ML estimation and associated methods, and J. Beggs, N. McNaughton,\\nand C. Young for discussions on neuronal avalanches and criticality. Funding: This project\\nwas financially supported by The MacDiarmid Institute for Advanced Materials and\\nNanotechnology, the Ministry of Business Innovation and Employment, and the Marsden\\nFund UOC1604. Author contributions: S.A.B. conceived the study and initiated the project.\\nJ.B.M. initiated and performed the avalanche and criticality analysis. J.B.M., S.S., S.K.B.,\\nS.K.A., and E.G. performed the experiments. J.B.M., S.S., S.K.A., S.K.B., and S.A.B. performed the\\ndata analysis. S.A.B. and J.B.M. wrote the manuscript with comments from all authors.\\nCompeting interests: The authors declare that they have no competing interests.\\nData and materials availability: All data needed to evaluate the conclusions in the paper\\nare present in the paper and/or the Supplementary Materials. Additional data related to this\\npaper may be requested from the authors.\\nSubmitted 30 January 2019\\nAccepted 16 September 2019\\nPublished 1 November 2019\\n10.1126/sciadv.aaw8438\\nCitation: J. B. Mallinson, S. Shirai, S. K. Acharya, S. K. Bose, E. Galli, S. A. Brown, Avalanches and\\ncriticality in self-organized nanoscale networks. Sci. Adv. 5, eaaw8438 (2019).\\nS C I E N C E A D V A N C E S | R E S E A R C H A R T I C L E\\nMallinson et al., Sci. Adv. 2019;5:eaaw8438\\n1 November 2019\\n7 of 7\\nDownloaded from https://www.science.org on September 20, 2024\\n', mimetype='text/plain', start_char_idx=None, end_char_idx=None, text_template='{metadata_str}\\n\\n{content}', metadata_template='{key}: {value}', metadata_seperator='\\n')]"
      ]
     },
     "execution_count": 30,
     "metadata": {},
     "output_type": "execute_result"
    }
   ],
   "source": [
    "documents"
   ]
  },
  {
   "cell_type": "markdown",
   "metadata": {},
   "source": [
    "We have 7 items in documents, one for each page."
   ]
  },
  {
   "cell_type": "code",
   "execution_count": 31,
   "metadata": {},
   "outputs": [
    {
     "name": "stdout",
     "output_type": "stream",
     "text": [
      "A P P L I ED S C I E N C E S A N D EN G I N E E R I N G\n",
      "Copyright © 2019\n",
      "The Authors, some\n",
      "rights reserved;\n",
      "exclusive licensee\n",
      "American Association\n",
      "for the Advancement\n",
      "of Science. No claim to\n",
      "originalU.S.Government\n",
      "Works. Distributed\n",
      "under a Creative\n",
      "Commons Attribution\n",
      "NonCommercial\n",
      "License 4.0 (CC BY-NC).\n",
      "Avalanches and criticality in self-organized\n",
      "nanoscale networks\n",
      "J. B. Mallinson, S. Shirai, S. K. Acharya, S. K. Bose, E. Galli, S. A. Brown*\n",
      "Current efforts to achieve neuromorphic computation are focused on highly organized architectures, such as\n",
      "integrated circuits and regular arrays of memristors, which lack the complex interconnectivity of the brain and\n",
      "so are unable to exhibit brain-like dynamics. New architectures are required, both to emulate the complexity of\n",
      "the brain and to achieve critical dynamics and consequent maximal computational performance. We show here\n",
      "that electrical signals from self-organized networks of nanoparticles exhibit brain-like spatiotemporal correla-...\n"
     ]
    }
   ],
   "source": [
    "print(documents[0].text[:1000] + \"...\")"
   ]
  },
  {
   "cell_type": "markdown",
   "metadata": {},
   "source": [
    "## Extracting images\n",
    "It is probably handy to have the images extracted from the pdf. This is not always easy to do, but for this paper, we can use PyMuPDF to extract the images. Objects in a pdf are identified by a `xref` (cross reference) number.\n",
    "\n",
    "If you know this number, you can extract the image. But how do you find the `xref` number? One method is use PyMuPDF's image extraction functions. We can just loop through all `xref`s and try and extract the image. If it doesn't work, then it's not an image! PyMuPDF will do most of this for us."
   ]
  },
  {
   "cell_type": "code",
   "execution_count": 19,
   "metadata": {},
   "outputs": [
    {
     "name": "stderr",
     "output_type": "stream",
     "text": [
      "page_images: 100%|██████████| 1/1 [00:00<00:00,  5.81it/s]\n",
      "page_images: 100%|██████████| 1/1 [00:00<00:00,  9.87it/s]\n",
      "page_images: 100%|██████████| 1/1 [00:00<00:00, 11.09it/s]\n",
      "page_images: 100%|██████████| 1/1 [00:00<00:00, 12.00it/s]\n",
      "page_images: 0it [00:00, ?it/s]:00<00:00,  9.43it/s]\n",
      "page_images: 0it [00:00, ?it/s]\n",
      "page_images: 0it [00:00, ?it/s]\n",
      "pages: 100%|██████████| 7/7 [00:00<00:00, 15.05it/s]"
     ]
    },
    {
     "name": "stdout",
     "output_type": "stream",
     "text": [
      "Done!\n"
     ]
    },
    {
     "name": "stderr",
     "output_type": "stream",
     "text": [
      "\n"
     ]
    }
   ],
   "source": [
    "import os\n",
    "import fitz\n",
    "from tqdm import tqdm\n",
    "\n",
    "workdir = \"data\"\n",
    "\n",
    "def extract_images(workdir):\n",
    "    for each_path in os.listdir(workdir):\n",
    "        if \".pdf\" in each_path:\n",
    "            doc = fitz.Document((os.path.join(workdir, each_path)))\n",
    "\n",
    "            for i in tqdm(range(len(doc)), desc=\"pages\"):\n",
    "                for img in tqdm(doc.get_page_images(i), desc=\"page_images\"):\n",
    "                    xref = img[0]\n",
    "                    image = doc.extract_image(xref)\n",
    "                    pix = fitz.Pixmap(doc, xref)\n",
    "                    pix.save(os.path.join(workdir, \"%s_p%s-%s.png\" % (each_path[:-4], i, xref)))\n",
    "    print(\"Done!\")\n",
    "\n",
    "extract_images(workdir)"
   ]
  },
  {
   "cell_type": "markdown",
   "metadata": {},
   "source": [
    "If we inspect one of these images, we can see that sure enough, it is a correct image.\n",
    "\n",
    "In some cases, this might not be possible. Another method is to convert the pdf pages to images. We can then pass the images to a vision LLM and ask it to extract the images. "
   ]
  },
  {
   "cell_type": "markdown",
   "metadata": {},
   "source": [
    "## Creating a vector database"
   ]
  },
  {
   "cell_type": "markdown",
   "metadata": {},
   "source": [
    "Now we have our documents, we can create a vector database. We will use Chroma as before."
   ]
  },
  {
   "cell_type": "markdown",
   "metadata": {},
   "source": [
    "First, we use the `text_parser` we created before to split the documents into chunks, and create indices."
   ]
  },
  {
   "cell_type": "code",
   "execution_count": 32,
   "metadata": {},
   "outputs": [],
   "source": [
    "\n",
    "text_chunks = []\n",
    "doc_idxs = []\n",
    "for doc_idx, doc in enumerate(documents):\n",
    "    cur_text_chunks = text_parser.split_text(doc.text)\n",
    "    text_chunks.extend(cur_text_chunks)\n",
    "    doc_idxs.extend([doc_idx] * len(cur_text_chunks))"
   ]
  },
  {
   "cell_type": "code",
   "execution_count": 37,
   "metadata": {},
   "outputs": [
    {
     "data": {
      "text/plain": [
       "2706"
      ]
     },
     "execution_count": 37,
     "metadata": {},
     "output_type": "execute_result"
    }
   ],
   "source": [
    "len(text_chunks[-1])"
   ]
  },
  {
   "cell_type": "code",
   "execution_count": 41,
   "metadata": {},
   "outputs": [],
   "source": [
    "import chromadb\n",
    "from chromadb.utils.embedding_functions import OpenAIEmbeddingFunction\n",
    "\n",
    "import dotenv\n",
    "import os\n",
    "dotenv.load_dotenv()\n",
    "OPENAI_API_KEY = os.getenv(\"OPENAI_API_KEY\")"
   ]
  },
  {
   "cell_type": "code",
   "execution_count": 42,
   "metadata": {},
   "outputs": [],
   "source": [
    "class DocumentDB:\n",
    "    def __init__(self, name: str, model_name: str = \"text-embedding-3-small\"):\n",
    "        self.model_name = model_name\n",
    "        self.client = chromadb.PersistentClient(path=\"./\")\n",
    "        self.embedding_function = OpenAIEmbeddingFunction(api_key=OPENAI_API_KEY, model_name=model_name)\n",
    "        self.chat_db = self.client.create_collection(name=name, embedding_function=self.embedding_function, metadata={\"hnsw:space\": \"cosine\"})\n",
    "        self.id_counter = 0\n",
    "\n",
    "\n",
    "    def add_chunks_to_db(self, chunks: list[str], doc_idxs: list[int]):\n",
    "        \"\"\"Add text chunks to the database.\n",
    "\n",
    "        Args:\n",
    "            chunks (list[str]): List of text chunks.\n",
    "            doc_idxs (list[int]): List of corresponding document indices.\n",
    "        \"\"\"\n",
    "        self.chat_db.add(\n",
    "            documents=chunks,\n",
    "            metadatas=[{\"doc_idx\": idx} for idx in doc_idxs],\n",
    "            ids=[f\"chunk_{self.id_counter + i}\" for i in range(len(chunks))]\n",
    "        )\n",
    "        self.id_counter += len(chunks)\n",
    "\n",
    "\n",
    "    def get_all_entries(self) -> dict:\n",
    "        \"\"\"Grab all of the entries in the database.\n",
    "\n",
    "        Returns:\n",
    "            dict: All entries in the database.\n",
    "        \"\"\"\n",
    "        return self.chat_db.get()\n",
    "    \n",
    "\n",
    "    def clear_db(self, reinitialize: bool = True):\n",
    "        \"\"\"Clear the database of all entries, and reinitialize it.\n",
    "\n",
    "        Args:\n",
    "            reinitialize (bool, optional): _description_. Defaults to True.\n",
    "        \"\"\"\n",
    "        self.client.delete_collection(self.chat_db.name)\n",
    "        # re-initialize the database\n",
    "        if reinitialize:\n",
    "            self.__init__(self.chat_db.name, self.model_name)\n",
    "\n",
    "\n",
    "    def query_db(self, query_text: str, n_results: int = 2) -> dict:\n",
    "        \"\"\"Given some query text, return the n_results most similar entries in the database.\n",
    "\n",
    "        Args:\n",
    "            query_text (str): The text to query the database with.\n",
    "            n_results (int): The number of results to return.\n",
    "\n",
    "        Returns:\n",
    "            dict: The most similar entries in the database.\n",
    "        \"\"\"\n",
    "        return self.chat_db.query(query_texts=[query_text], n_results=n_results)"
   ]
  },
  {
   "cell_type": "code",
   "execution_count": 43,
   "metadata": {},
   "outputs": [],
   "source": [
    "doc_db = DocumentDB(\"paper_chunks\")\n",
    "doc_db.add_chunks_to_db(chunks=text_chunks, doc_idxs=doc_idxs)"
   ]
  },
  {
   "cell_type": "code",
   "execution_count": 50,
   "metadata": {},
   "outputs": [
    {
     "name": "stdout",
     "output_type": "stream",
     "text": [
      "Sample query results for 'Abstract':\n"
     ]
    },
    {
     "data": {
      "text/plain": [
       "{'ids': [['chunk_1', 'chunk_0', 'chunk_14']],\n",
       " 'distances': [[0.7424637365628772, 0.757231765145284, 0.7631574948636832]],\n",
       " 'metadatas': [[{'doc_idx': 0}, {'doc_idx': 0}, {'doc_idx': 6}]],\n",
       " 'embeddings': None,\n",
       " 'documents': [['Bottom: The same network schematic presented so as to show the\\nconducting pathways (black) that result from atomic filament formation within the gaps between groups. (B) Schematic showing the conductance of a device during\\ndeposition of conducting nanoparticles follows (28) a power law ~(p −pc)1.3 (30) (the critical surface coverage is pc ~68%). arb, arbitrary units. (C) A scanning electron\\nmicroscope image of a percolating device. Scale bar, 200 nm. (D) Schematic diagrams showing the following: left—in the subcritical, insulating phase at low coverage,\\ngroups of particles are small and well separated, so that if an atomic switch connects two groups, then there are few possibilities that this will trigger another switching\\nevent; right—in the supercritical, conducting phase at higher coverages, highly connected pathways across the network mean that when an atomic filament bridges a\\ntunnel gap, an avalanche can propagate only to a few nearby tunnel gaps; center—in the critical phase, avalanches propagate on multiple length and time scales. See\\nalso fig. S2 for further details.\\nS C I E N C E A D V A N C E S | R E S E A R C H A R T I C L E\\nMallinson et al., Sci. Adv. 2019;5:eaaw8438\\n1 November 2019\\n1 of 7\\nDownloaded from https://www.science.org on September 20, 2024',\n",
       "   'A P P L I ED S C I E N C E S A N D EN G I N E E R I N G\\nCopyright © 2019\\nThe Authors, some\\nrights reserved;\\nexclusive licensee\\nAmerican Association\\nfor the Advancement\\nof Science. No claim to\\noriginalU.S.Government\\nWorks. Distributed\\nunder a Creative\\nCommons Attribution\\nNonCommercial\\nLicense 4.0 (CC BY-NC).\\nAvalanches and criticality in self-organized\\nnanoscale networks\\nJ. B. Mallinson, S. Shirai, S. K. Acharya, S. K. Bose, E. Galli, S. A. Brown*\\nCurrent efforts to achieve neuromorphic computation are focused on highly organized architectures, such as\\nintegrated circuits and regular arrays of memristors, which lack the complex interconnectivity of the brain and\\nso are unable to exhibit brain-like dynamics. New architectures are required, both to emulate the complexity of\\nthe brain and to achieve critical dynamics and consequent maximal computational performance. We show here\\nthat electrical signals from self-organized networks of nanoparticles exhibit brain-like spatiotemporal correla-\\ntions and criticality when fabricated at a percolating phase transition. Specifically, the sizes and durations of\\navalanches of switching events are power law distributed, and the power law exponents satisfy rigorous criteria\\nfor criticality. These signals are therefore qualitatively and quantitatively similar to those measured in the cortex.\\nOur self-organized networks provide a low-cost platform for computational approaches that rely on spatio-\\ntemporal correlations, such as reservoir computing, and are an important step toward creating neuromorphic\\ndevice architectures.\\nINTRODUCTION\\nThere is currently huge interest in building neuromorphic computa-\\ntional systems that operate on brain-like principles to perform cer-\\ntain tasks (e.g., classification and pattern recognition) much more\\nefficiently than on traditional computers. Neuromorphic processing\\nhas been implemented in a number of hardware platforms, using\\ncomponents ranging from traditional silicon-based technology (1, 2),\\ncrossbar memristor arrays (3–6), and novel nanoscale device elements\\nthat use atomic-scale dynamics to mimic the behavior of synapses and\\nneurons (7–9). All of these approaches rely on highly ordered architec-\\ntures, but neuromorphic computational paradigms such as reservoir\\ncomputing (RC) (10–12) require complex networks with strong in-\\nherent spatiotemporal correlations (13, 14). Maximal computational\\nperformance (15–17) in these systems requires network architec-\\ntures that are not only complex but also critical (18).\\nAt a critical point (17–20), the underlying network is scale free\\n(21, 22), and the dynamics are characterized by scale-invariant ava-\\nlanches, as observed in many systems ranging from earthquakes to\\nbiological extinctions and magnetization dynamics (23). Put simply,\\na critical system is poised such that any event is likely to trigger sub-\\nsequent events, leading to a cascade (15). Avalanches of events are an\\nThe MacDiarmid Institute for Advanced Materials and Nanotechnology, School of\\nPhysical and Chemical Sciences, Te Kura Matū, University of Canterbury, Private\\nBag 4800, Christchurch 8140, New Zealand.\\n*Corresponding author. Email: simon.brown@canterbury.ac.nz\\nFig. 1. Device schematic, atomic switches, and percolating networks. (A) Top: Schematic diagram illustrating our simple two-terminal contact geometry and the\\npercolating network of nanoparticles. The different colors represent groups of particles that are in contact with one another. The zoomed region shows a schematic of\\nthe growth of an atomic filament within a tunnel gap (switching event) when a voltage is applied. Bottom: The same network schematic presented so as to show the\\nconducting pathways (black) that result from atomic filament formation within the gaps between groups. (B) Schematic showing the conductance of a device during\\ndeposition of conducting nanoparticles follows (28) a power law ~(p −pc)1.3 (30) (the critical surface coverage is pc ~68%). arb, arbitrary units. (C) A scanning electron\\nmicroscope image of a percolating device. Scale bar, 200 nm.',\n",
       "   '43. J. A. Roberts, K. K. Iyer, S. Finnigan, S. Vanhatalo, M. Breakspear, Scale-free bursting in\\nhuman cortex following hypoxia at birth. J. Neurosci. 34, 6557–6572 (2014).\\n44. J. Schmelzer Jr., S. A. Brown, A. Wurl, M. Hyslop, R. J. Blaikie, Finite-size effects\\nin the conductivity of cluster assembled nanostructures. Phys. Rev. Lett. 88, 226802\\n(2002).\\n45. N. Marshall, N. M. Timme, N. Bennett, M. Ripp, E. Lautzenhiser, J. M. Beggs, Analysis of\\npower laws, shape collapses, and neural complexity: New techniques and MATLAB\\nsupport via the NCC toolbox. Front. Physiol. 7, 250 (2016).\\n46. A. Clauset, C. R. Shalizi, M. E. J. Newman, Power-law distributions in empirical data.\\nSIAM Rev. 51, 661–703 (2009).\\n47. S. I. Vrieze, Model selection and psychological theory: A discussion of the differences\\nbetween the Akaike information criterion (AIC) and the Bayesian information criterion\\n(BIC). Psychol. Methods 17, 228–243 (2012).\\n48. M. Yaghoubi, T. de Graaf, J. G. Orlandi, F. Girotto, M. A. Colicos, J. Davidsen, Neuronal\\navalanche dynamics indicates different universality classes in neuronal cultures. Sci. Rep.\\n8, 3417 (2018).\\nAcknowledgments: We thank D. O’Neale, M. Plank, and D. Stouffer for helpful discussions\\nand support with ML estimation and associated methods, and J. Beggs, N. McNaughton,\\nand C. Young for discussions on neuronal avalanches and criticality. Funding: This project\\nwas financially supported by The MacDiarmid Institute for Advanced Materials and\\nNanotechnology, the Ministry of Business Innovation and Employment, and the Marsden\\nFund UOC1604. Author contributions: S.A.B. conceived the study and initiated the project.\\nJ.B.M. initiated and performed the avalanche and criticality analysis. J.B.M., S.S., S.K.B.,\\nS.K.A., and E.G. performed the experiments. J.B.M., S.S., S.K.A., S.K.B., and S.A.B. performed the\\ndata analysis. S.A.B. and J.B.M. wrote the manuscript with comments from all authors.\\nCompeting interests: The authors declare that they have no competing interests.\\nData and materials availability: All data needed to evaluate the conclusions in the paper\\nare present in the paper and/or the Supplementary Materials. Additional data related to this\\npaper may be requested from the authors.\\nSubmitted 30 January 2019\\nAccepted 16 September 2019\\nPublished 1 November 2019\\n10.1126/sciadv.aaw8438\\nCitation: J. B. Mallinson, S. Shirai, S. K. Acharya, S. K. Bose, E. Galli, S. A. Brown, Avalanches and\\ncriticality in self-organized nanoscale networks. Sci. Adv. 5, eaaw8438 (2019).\\nS C I E N C E A D V A N C E S | R E S E A R C H A R T I C L E\\nMallinson et al., Sci. Adv. 2019;5:eaaw8438\\n1 November 2019\\n7 of 7\\nDownloaded from https://www.science.org on September 20, 2024']],\n",
       " 'uris': None,\n",
       " 'data': None,\n",
       " 'included': ['metadatas', 'documents', 'distances']}"
      ]
     },
     "execution_count": 50,
     "metadata": {},
     "output_type": "execute_result"
    }
   ],
   "source": [
    "sample_query = \"Abstract\"\n",
    "results = doc_db.query_db(sample_query, n_results=3)\n",
    "print(f\"Sample query results for '{sample_query}':\")\n",
    "results"
   ]
  },
  {
   "cell_type": "markdown",
   "metadata": {},
   "source": [
    "This is all pretty messy. Let's first try and stuff this into an LLM and see what happens."
   ]
  },
  {
   "cell_type": "code",
   "execution_count": 51,
   "metadata": {},
   "outputs": [],
   "source": [
    "from openai import OpenAI\n",
    "client = OpenAI()"
   ]
  },
  {
   "cell_type": "markdown",
   "metadata": {},
   "source": [
    "Our prompt will be simple for now."
   ]
  },
  {
   "cell_type": "code",
   "execution_count": 52,
   "metadata": {},
   "outputs": [],
   "source": [
    "system_prompt = (\n",
    "    \"You are a helpful academic assistant that is an expert at extracting information from academic papers.\"\n",
    "    \"You will be given a query, and some text that corresponds to a document.\"\n",
    "    \"You must answer the query using the information in the text.\"\n",
    "    \"Your answer must be concise and to the point.\"\n",
    "    \"If you are unsure of something, you say so.\"\n",
    "    \"You will be given a score at the end, so don't miss anything important!\"\n",
    ")\n",
    "\n"
   ]
  },
  {
   "cell_type": "code",
   "execution_count": 53,
   "metadata": {},
   "outputs": [
    {
     "data": {
      "text/plain": [
       "['Bottom: The same network schematic presented so as to show the\\nconducting pathways (black) that result from atomic filament formation within the gaps between groups. (B) Schematic showing the conductance of a device during\\ndeposition of conducting nanoparticles follows (28) a power law ~(p −pc)1.3 (30) (the critical surface coverage is pc ~68%). arb, arbitrary units. (C) A scanning electron\\nmicroscope image of a percolating device. Scale bar, 200 nm. (D) Schematic diagrams showing the following: left—in the subcritical, insulating phase at low coverage,\\ngroups of particles are small and well separated, so that if an atomic switch connects two groups, then there are few possibilities that this will trigger another switching\\nevent; right—in the supercritical, conducting phase at higher coverages, highly connected pathways across the network mean that when an atomic filament bridges a\\ntunnel gap, an avalanche can propagate only to a few nearby tunnel gaps; center—in the critical phase, avalanches propagate on multiple length and time scales. See\\nalso fig. S2 for further details.\\nS C I E N C E A D V A N C E S | R E S E A R C H A R T I C L E\\nMallinson et al., Sci. Adv. 2019;5:eaaw8438\\n1 November 2019\\n1 of 7\\nDownloaded from https://www.science.org on September 20, 2024',\n",
       " 'A P P L I ED S C I E N C E S A N D EN G I N E E R I N G\\nCopyright © 2019\\nThe Authors, some\\nrights reserved;\\nexclusive licensee\\nAmerican Association\\nfor the Advancement\\nof Science. No claim to\\noriginalU.S.Government\\nWorks. Distributed\\nunder a Creative\\nCommons Attribution\\nNonCommercial\\nLicense 4.0 (CC BY-NC).\\nAvalanches and criticality in self-organized\\nnanoscale networks\\nJ. B. Mallinson, S. Shirai, S. K. Acharya, S. K. Bose, E. Galli, S. A. Brown*\\nCurrent efforts to achieve neuromorphic computation are focused on highly organized architectures, such as\\nintegrated circuits and regular arrays of memristors, which lack the complex interconnectivity of the brain and\\nso are unable to exhibit brain-like dynamics. New architectures are required, both to emulate the complexity of\\nthe brain and to achieve critical dynamics and consequent maximal computational performance. We show here\\nthat electrical signals from self-organized networks of nanoparticles exhibit brain-like spatiotemporal correla-\\ntions and criticality when fabricated at a percolating phase transition. Specifically, the sizes and durations of\\navalanches of switching events are power law distributed, and the power law exponents satisfy rigorous criteria\\nfor criticality. These signals are therefore qualitatively and quantitatively similar to those measured in the cortex.\\nOur self-organized networks provide a low-cost platform for computational approaches that rely on spatio-\\ntemporal correlations, such as reservoir computing, and are an important step toward creating neuromorphic\\ndevice architectures.\\nINTRODUCTION\\nThere is currently huge interest in building neuromorphic computa-\\ntional systems that operate on brain-like principles to perform cer-\\ntain tasks (e.g., classification and pattern recognition) much more\\nefficiently than on traditional computers. Neuromorphic processing\\nhas been implemented in a number of hardware platforms, using\\ncomponents ranging from traditional silicon-based technology (1, 2),\\ncrossbar memristor arrays (3–6), and novel nanoscale device elements\\nthat use atomic-scale dynamics to mimic the behavior of synapses and\\nneurons (7–9). All of these approaches rely on highly ordered architec-\\ntures, but neuromorphic computational paradigms such as reservoir\\ncomputing (RC) (10–12) require complex networks with strong in-\\nherent spatiotemporal correlations (13, 14). Maximal computational\\nperformance (15–17) in these systems requires network architec-\\ntures that are not only complex but also critical (18).\\nAt a critical point (17–20), the underlying network is scale free\\n(21, 22), and the dynamics are characterized by scale-invariant ava-\\nlanches, as observed in many systems ranging from earthquakes to\\nbiological extinctions and magnetization dynamics (23). Put simply,\\na critical system is poised such that any event is likely to trigger sub-\\nsequent events, leading to a cascade (15). Avalanches of events are an\\nThe MacDiarmid Institute for Advanced Materials and Nanotechnology, School of\\nPhysical and Chemical Sciences, Te Kura Matū, University of Canterbury, Private\\nBag 4800, Christchurch 8140, New Zealand.\\n*Corresponding author. Email: simon.brown@canterbury.ac.nz\\nFig. 1. Device schematic, atomic switches, and percolating networks. (A) Top: Schematic diagram illustrating our simple two-terminal contact geometry and the\\npercolating network of nanoparticles. The different colors represent groups of particles that are in contact with one another. The zoomed region shows a schematic of\\nthe growth of an atomic filament within a tunnel gap (switching event) when a voltage is applied. Bottom: The same network schematic presented so as to show the\\nconducting pathways (black) that result from atomic filament formation within the gaps between groups. (B) Schematic showing the conductance of a device during\\ndeposition of conducting nanoparticles follows (28) a power law ~(p −pc)1.3 (30) (the critical surface coverage is pc ~68%). arb, arbitrary units. (C) A scanning electron\\nmicroscope image of a percolating device. Scale bar, 200 nm.',\n",
       " '43. J. A. Roberts, K. K. Iyer, S. Finnigan, S. Vanhatalo, M. Breakspear, Scale-free bursting in\\nhuman cortex following hypoxia at birth. J. Neurosci. 34, 6557–6572 (2014).\\n44. J. Schmelzer Jr., S. A. Brown, A. Wurl, M. Hyslop, R. J. Blaikie, Finite-size effects\\nin the conductivity of cluster assembled nanostructures. Phys. Rev. Lett. 88, 226802\\n(2002).\\n45. N. Marshall, N. M. Timme, N. Bennett, M. Ripp, E. Lautzenhiser, J. M. Beggs, Analysis of\\npower laws, shape collapses, and neural complexity: New techniques and MATLAB\\nsupport via the NCC toolbox. Front. Physiol. 7, 250 (2016).\\n46. A. Clauset, C. R. Shalizi, M. E. J. Newman, Power-law distributions in empirical data.\\nSIAM Rev. 51, 661–703 (2009).\\n47. S. I. Vrieze, Model selection and psychological theory: A discussion of the differences\\nbetween the Akaike information criterion (AIC) and the Bayesian information criterion\\n(BIC). Psychol. Methods 17, 228–243 (2012).\\n48. M. Yaghoubi, T. de Graaf, J. G. Orlandi, F. Girotto, M. A. Colicos, J. Davidsen, Neuronal\\navalanche dynamics indicates different universality classes in neuronal cultures. Sci. Rep.\\n8, 3417 (2018).\\nAcknowledgments: We thank D. O’Neale, M. Plank, and D. Stouffer for helpful discussions\\nand support with ML estimation and associated methods, and J. Beggs, N. McNaughton,\\nand C. Young for discussions on neuronal avalanches and criticality. Funding: This project\\nwas financially supported by The MacDiarmid Institute for Advanced Materials and\\nNanotechnology, the Ministry of Business Innovation and Employment, and the Marsden\\nFund UOC1604. Author contributions: S.A.B. conceived the study and initiated the project.\\nJ.B.M. initiated and performed the avalanche and criticality analysis. J.B.M., S.S., S.K.B.,\\nS.K.A., and E.G. performed the experiments. J.B.M., S.S., S.K.A., S.K.B., and S.A.B. performed the\\ndata analysis. S.A.B. and J.B.M. wrote the manuscript with comments from all authors.\\nCompeting interests: The authors declare that they have no competing interests.\\nData and materials availability: All data needed to evaluate the conclusions in the paper\\nare present in the paper and/or the Supplementary Materials. Additional data related to this\\npaper may be requested from the authors.\\nSubmitted 30 January 2019\\nAccepted 16 September 2019\\nPublished 1 November 2019\\n10.1126/sciadv.aaw8438\\nCitation: J. B. Mallinson, S. Shirai, S. K. Acharya, S. K. Bose, E. Galli, S. A. Brown, Avalanches and\\ncriticality in self-organized nanoscale networks. Sci. Adv. 5, eaaw8438 (2019).\\nS C I E N C E A D V A N C E S | R E S E A R C H A R T I C L E\\nMallinson et al., Sci. Adv. 2019;5:eaaw8438\\n1 November 2019\\n7 of 7\\nDownloaded from https://www.science.org on September 20, 2024']"
      ]
     },
     "execution_count": 53,
     "metadata": {},
     "output_type": "execute_result"
    }
   ],
   "source": [
    "results[\"documents\"][0]"
   ]
  },
  {
   "cell_type": "code",
   "execution_count": 54,
   "metadata": {},
   "outputs": [
    {
     "name": "stdout",
     "output_type": "stream",
     "text": [
      "Measurements over long time\n",
      "periods are also necessary to avoid significant cutoffs in the power law\n",
      "distributions (17). Here, we presented data from DC stimulus of four\n",
      "devices, but the data presented are consistent with that obtained from\n",
      "DC, pulsed, and ramped voltage stimulus of a further 10 devices.\n",
      "Our electrical measurements were performed using two distinct\n",
      "sets of measurement electronics to allow measurement of the device\n",
      "conductance on two distinct time scales. The first method relies on a\n",
      "picoammeter and is limited to a relatively slow sampling rate (0.1 s\n",
      "sampling interval). The second method uses a fast digital oscilloscope\n",
      "to allow a much higher sampling rate (200 ms sampling interval for the\n",
      "data presented here). As shown in Figs. 2 to 4, both methods resulted\n",
      "in qualitatively and quantitatively similar data, with similar power law\n",
      "exponents for each of the main quantities of interest. Hence, our\n",
      "results and conclusions are not influenced by the sampling rate.\n",
      "Data analysis\n",
      "The data analysis methods used in this work are substantially the\n",
      "same as those developed in the neuroscience community to analyze\n",
      "microelectrode array recordings from biological brain tissue (24–27).\n",
      "Events are defined as changes in the conductance signal that exceed a\n",
      "threshold value. We show in fig. S3 that, as in the neuroscience liter-\n",
      "ature, the choice of threshold in a reasonable range does not signifi-\n",
      "cantly affect the avalanche analysis. Avalanches were defined following\n",
      "the procedure described in (24, 45): The data were analyzed by defining\n",
      "time bins with width equal to the mean IEI (24), and the duration of\n",
      "the avalanche was defined as the number of consecutive nonempty\n",
      "bins between empty bins. Figure S4 shows the effect of bin size on\n",
      "the avalanche analysis.\n",
      "Power law exponents and “fitting” processes\n",
      "We followed the maximum likelihood (ML) approach of (46), as im-\n",
      "plemented in the Neural Complexity and Criticality MATLAB tool-\n",
      "box by (45), to statistically validate criticality. For all data that can be\n",
      "plotted in the form of a PDF (IEIs, S, and T), the ML estimators were\n",
      "obtained for both power law and exponential distributions. We used\n",
      "the Bayesian information criterion (47) to identify which distribution\n",
      "is more likely and find in all cases that it is the power law (46), as\n",
      "shown in fig. S5.\n",
      "We generated 500 random power laws using the calculated ML\n",
      "estimators and iterated the choice of cutoffs (xmin and xmax) for the data\n",
      "range, finding the probability of obtaining a Kolmogorov-Smirnov (KS)\n",
      "distance (46) at least as great as for that of experimental data. In all cases,\n",
      "we failed to reject the null hypothesis that avalanche distributions are\n",
      "power law distributed (we required P > 0.2). Conversely, we rejected the\n",
      "null hypothesis that avalanche distributions are power law distributed\n",
      "for shuffled data (see Fig. 3, A, B, F, and G) (41), i.e., when we removed\n",
      "the correlations in the experimental avalanche data, we found that the\n",
      "S C I E N C E A D V A N C E S | R E S E A R C H A R T I C L E\n",
      "Mallinson et al., Sci. Adv. 2019;5:eaaw8438\n",
      "1 November 2019\n",
      "5 of 7\n",
      "Downloaded from https://www.science.org on September 20, 2024\n",
      "Cosine distance: 0.64\n",
      "----------\n",
      "43. J. A. Roberts, K. K. Iyer, S. Finnigan, S. Vanhatalo, M. Breakspear, Scale-free bursting in\n",
      "human cortex following hypoxia at birth. J. Neurosci. 34, 6557–6572 (2014).\n",
      "44. J. Schmelzer Jr., S. A. Brown, A. Wurl, M. Hyslop, R. J. Blaikie, Finite-size effects\n",
      "in the conductivity of cluster assembled nanostructures. Phys. Rev. Lett. 88, 226802\n",
      "(2002).\n",
      "45. N. Marshall, N. M. Timme, N. Bennett, M. Ripp, E. Lautzenhiser, J. M. Beggs, Analysis of\n",
      "power laws, shape collapses, and neural complexity: New techniques and MATLAB\n",
      "support via the NCC toolbox. Front. Physiol. 7, 250 (2016).\n",
      "46. A. Clauset, C. R. Shalizi, M. E. J. Newman, Power-law distributions in empirical data.\n",
      "SIAM Rev. 51, 661–703 (2009).\n",
      "47. S. I. Vrieze, Model selection and psychological theory: A discussion of the differences\n",
      "between the Akaike information criterion (AIC) and the Bayesian information criterion\n",
      "(BIC). Psychol. Methods 17, 228–243 (2012).\n",
      "48. M. Yaghoubi, T. de Graaf, J. G. Orlandi, F. Girotto, M. A. Colicos, J. Davidsen, Neuronal\n",
      "avalanche dynamics indicates different universality classes in neuronal cultures. Sci. Rep.\n",
      "8, 3417 (2018).\n",
      "Acknowledgments: We thank D. O’Neale, M. Plank, and D. Stouffer for helpful discussions\n",
      "and support with ML estimation and associated methods, and J. Beggs, N. McNaughton,\n",
      "and C. Young for discussions on neuronal avalanches and criticality. Funding: This project\n",
      "was financially supported by The MacDiarmid Institute for Advanced Materials and\n",
      "Nanotechnology, the Ministry of Business Innovation and Employment, and the Marsden\n",
      "Fund UOC1604. Author contributions: S.A.B. conceived the study and initiated the project.\n",
      "J.B.M. initiated and performed the avalanche and criticality analysis. J.B.M., S.S., S.K.B.,\n",
      "S.K.A., and E.G. performed the experiments. J.B.M., S.S., S.K.A., S.K.B., and S.A.B. performed the\n",
      "data analysis. S.A.B. and J.B.M. wrote the manuscript with comments from all authors.\n",
      "Competing interests: The authors declare that they have no competing interests.\n",
      "Data and materials availability: All data needed to evaluate the conclusions in the paper\n",
      "are present in the paper and/or the Supplementary Materials. Additional data related to this\n",
      "paper may be requested from the authors.\n",
      "Submitted 30 January 2019\n",
      "Accepted 16 September 2019\n",
      "Published 1 November 2019\n",
      "10.1126/sciadv.aaw8438\n",
      "Citation: J. B. Mallinson, S. Shirai, S. K. Acharya, S. K. Bose, E. Galli, S. A. Brown, Avalanches and\n",
      "criticality in self-organized nanoscale networks. Sci. Adv. 5, eaaw8438 (2019).\n",
      "S C I E N C E A D V A N C E S | R E S E A R C H A R T I C L E\n",
      "Mallinson et al., Sci. Adv. 2019;5:eaaw8438\n",
      "1 November 2019\n",
      "7 of 7\n",
      "Downloaded from https://www.science.org on September 20, 2024\n",
      "Cosine distance: 0.64\n",
      "----------\n",
      "\n"
     ]
    }
   ],
   "source": [
    "def combined_context(documents: list[str], scores: list[float]) -> str:\n",
    "    string = \"\"\n",
    "    for document, score in zip(documents, scores):\n",
    "        string += f\"{document}\\nCosine distance: {score:.2f}\\n{'-'*10}\\n\"\n",
    "    return string\n",
    "\n",
    "def get_context(user_input: str, n_results: int = 2, doc_db: DocumentDB = doc_db) -> str:\n",
    "    results = doc_db.query_db(user_input, n_results=2)\n",
    "    context = combined_context(results[\"documents\"][0], results[\"distances\"][0])\n",
    "    if not context:\n",
    "        context = \"No relevant chat history found.\"\n",
    "    return context\n",
    "\n",
    "query = \"What are the main findings of this paper?\"\n",
    "context = get_context(query)\n",
    "print(context)"
   ]
  },
  {
   "cell_type": "code",
   "execution_count": 58,
   "metadata": {},
   "outputs": [
    {
     "data": {
      "text/plain": [
       "'Query: What are the main findings of this paper?\\n\\nContext: Measurements over long time\\nperiods are also necessary to avoid significant cutoffs in the power law\\ndistributions (17). Here, we presented data from DC stimulus of four\\ndevices, but the data presented are consistent with that obtained from\\nDC, pulsed, and ramped voltage stimulus of a further 10 devices.\\nOur electrical measurements were performed using two distinct\\nsets of measurement electronics to allow measurement of the device\\nconductance on two distinct time scales. The first method relies on a\\npicoammeter and is limited to a relatively slow sampling rate (0.1 s\\nsampling interval). The second method uses a fast digital oscilloscope\\nto allow a much higher sampling rate (200 ms sampling interval for the\\ndata presented here). As shown in Figs. 2 to 4, both methods resulted\\nin qualitatively and quantitatively similar data, with similar power law\\nexponents for each of the main quantities of interest. Hence, our\\nresults and conclusions are not influenced by the sampling rate.\\nData analysis\\nThe data analysis methods used in this work are substantially the\\nsame as those developed in the neuroscience community to analyze\\nmicroelectrode array recordings from biological brain tissue (24–27).\\nEvents are defined as changes in the conductance signal that exceed a\\nthreshold value. We show in fig. S3 that, as in the neuroscience liter-\\nature, the choice of threshold in a reasonable range does not signifi-\\ncantly affect the avalanche analysis. Avalanches were defined following\\nthe procedure described in (24, 45): The data were analyzed by defining\\ntime bins with width equal to the mean IEI (24), and the duration of\\nthe avalanche was defined as the number of consecutive nonempty\\nbins between empty bins. Figure S4 shows the effect of bin size on\\nthe avalanche analysis.\\nPower law exponents and “fitting” processes\\nWe followed the maximum likelihood (ML) approach of (46), as im-\\nplemented in the Neural Complexity and Criticality MATLAB tool-\\nbox by (45), to statistically validate criticality. For all data that can be\\nplotted in the form of a PDF (IEIs, S, and T), the ML estimators were\\nobtained for both power law and exponential distributions. We used\\nthe Bayesian information criterion (47) to identify which distribution\\nis more likely and find in all cases that it is the power law (46), as\\nshown in fig. S5.\\nWe generated 500 random power laws using the calculated ML\\nestimators and iterated the choice of cutoffs (xmin and xmax) for the data\\nrange, finding the probability of obtaining a Kolmogorov-Smirnov (KS)\\ndistance (46) at least as great as for that of experimental data. In all cases,\\nwe failed to reject the null hypothesis that avalanche distributions are\\npower law distributed (we required P > 0.2). Conversely, we rejected the\\nnull hypothesis that avalanche distributions are power law distributed\\nfor shuffled data (see Fig. 3, A, B, F, and G) (41), i.e., when we removed\\nthe correlations in the experimental avalanche data, we found that the\\nS C I E N C E A D V A N C E S | R E S E A R C H A R T I C L E\\nMallinson et al., Sci. Adv. 2019;5:eaaw8438\\n1 November 2019\\n5 of 7\\nDownloaded from https://www.science.org on September 20, 2024\\nCosine distance: 0.64\\n----------\\n43. J. A. Roberts, K. K. Iyer, S. Finnigan, S. Vanhatalo, M. Breakspear, Scale-free bursting in\\nhuman cortex following hypoxia at birth. J. Neurosci. 34, 6557–6572 (2014).\\n44. J. Schmelzer Jr., S. A. Brown, A. Wurl, M. Hyslop, R. J. Blaikie, Finite-size effects\\nin the conductivity of cluster assembled nanostructures. Phys. Rev. Lett. 88, 226802\\n(2002).\\n45. N. Marshall, N. M. Timme, N. Bennett, M. Ripp, E. Lautzenhiser, J. M. Beggs, Analysis of\\npower laws, shape collapses, and neural complexity: New techniques and MATLAB\\nsupport via the NCC toolbox. Front. Physiol. 7, 250 (2016).\\n46. A. Clauset, C. R. Shalizi, M. E. J. Newman, Power-law distributions in empirical data.\\nSIAM Rev. 51, 661–703 (2009).\\n47. S. I. Vrieze, Model selection and psychological theory: A discussion of the differences\\nbetween the Akaike information criterion (AIC) and the Bayesian information criterion\\n(BIC). Psychol. Methods 17, 228–243 (2012).\\n48. M. Yaghoubi, T. de Graaf, J. G. Orlandi, F. Girotto, M. A. Colicos, J. Davidsen, Neuronal\\navalanche dynamics indicates different universality classes in neuronal cultures. Sci. Rep.\\n8, 3417 (2018).\\nAcknowledgments: We thank D. O’Neale, M. Plank, and D. Stouffer for helpful discussions\\nand support with ML estimation and associated methods, and J. Beggs, N. McNaughton,\\nand C. Young for discussions on neuronal avalanches and criticality. Funding: This project\\nwas financially supported by The MacDiarmid Institute for Advanced Materials and\\nNanotechnology, the Ministry of Business Innovation and Employment, and the Marsden\\nFund UOC1604. Author contributions: S.A.B. conceived the study and initiated the project.\\nJ.B.M. initiated and performed the avalanche and criticality analysis. J.B.M., S.S., S.K.B.,\\nS.K.A., and E.G. performed the experiments. J.B.M., S.S., S.K.A., S.K.B., and S.A.B. performed the\\ndata analysis. S.A.B. and J.B.M. wrote the manuscript with comments from all authors.\\nCompeting interests: The authors declare that they have no competing interests.\\nData and materials availability: All data needed to evaluate the conclusions in the paper\\nare present in the paper and/or the Supplementary Materials. Additional data related to this\\npaper may be requested from the authors.\\nSubmitted 30 January 2019\\nAccepted 16 September 2019\\nPublished 1 November 2019\\n10.1126/sciadv.aaw8438\\nCitation: J. B. Mallinson, S. Shirai, S. K. Acharya, S. K. Bose, E. Galli, S. A. Brown, Avalanches and\\ncriticality in self-organized nanoscale networks. Sci. Adv. 5, eaaw8438 (2019).\\nS C I E N C E A D V A N C E S | R E S E A R C H A R T I C L E\\nMallinson et al., Sci. Adv. 2019;5:eaaw8438\\n1 November 2019\\n7 of 7\\nDownloaded from https://www.science.org on September 20, 2024\\nCosine distance: 0.64\\n----------\\n'"
      ]
     },
     "execution_count": 58,
     "metadata": {},
     "output_type": "execute_result"
    }
   ],
   "source": [
    "user_prompt = (\n",
    "    f\"Query: {query}\\n\\n\"\n",
    "    f\"Context: {context}\"\n",
    ")\n",
    "\n",
    "user_prompt"
   ]
  },
  {
   "cell_type": "code",
   "execution_count": 59,
   "metadata": {},
   "outputs": [
    {
     "name": "stdout",
     "output_type": "stream",
     "text": [
      "The main findings of the paper include:\n",
      "\n",
      "1. Consistency of electrical measurements across different devices and stimulus methods (DC, pulsed, and ramped voltage).\n",
      "2. Validation of power law distributions in avalanche dynamics through statistical analysis, indicating that the data follows power law behavior rather than exponential distributions.\n",
      "3. The choice of threshold for defining events in the conductance signal does not significantly affect the avalanche analysis.\n",
      "4. The study demonstrates that correlations in experimental avalanche data are crucial, as shuffled data did not exhibit power law distributions. \n",
      "\n",
      "Overall, the research supports the presence of criticality in self-organized nanoscale networks."
     ]
    }
   ],
   "source": [
    "response = client.chat.completions.create(\n",
    "    model=\"gpt-4o-mini\",\n",
    "    messages=[\n",
    "        {\"role\": \"system\", \"content\": system_prompt},\n",
    "        {\"role\": \"user\", \"content\": user_prompt}\n",
    "    ],\n",
    "    stream=True,\n",
    "    temperature=0.0\n",
    ")\n",
    "\n",
    "for chunk in response:\n",
    "    if chunk.choices[0].delta.content is not None:\n",
    "        print(chunk.choices[0].delta.content, end=\"\")"
   ]
  },
  {
   "cell_type": "markdown",
   "metadata": {},
   "source": [
    "Meh.\n",
    "\n",
    "This is OK, but look at the quality of the retrieval process - the text chunks we are getting are not very useful!"
   ]
  },
  {
   "cell_type": "markdown",
   "metadata": {},
   "source": []
  }
 ],
 "metadata": {
  "kernelspec": {
   "display_name": "venv",
   "language": "python",
   "name": "python3"
  },
  "language_info": {
   "codemirror_mode": {
    "name": "ipython",
    "version": 3
   },
   "file_extension": ".py",
   "mimetype": "text/x-python",
   "name": "python",
   "nbconvert_exporter": "python",
   "pygments_lexer": "ipython3",
   "version": "3.11.8"
  }
 },
 "nbformat": 4,
 "nbformat_minor": 2
}
