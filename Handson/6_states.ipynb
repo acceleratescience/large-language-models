{
 "cells": [
  {
   "cell_type": "markdown",
   "metadata": {},
   "source": [
    "# Keeping track of information\n",
    "LLMs calls are inherently stateless - they do not have memory of any previous interactions. Every call is an independent event, and **YOU** must manage any information that needs to be carried over time.\n",
    "\n",
    "In this notebook we will look at a few different things that we might want to keep track of between calls."
   ]
  },
  {
   "cell_type": "markdown",
   "metadata": {},
   "source": [
    "## Conversation History\n",
    "Keeping track of the conversation history is actually easy. Firstly it is important to remember that LLMs often have the following pattern:\n",
    "\n",
    "```\n",
    "-> system prompt\n",
    "-> user prompt\n",
    "-> model response\n",
    "\n",
    "-> user prompt\n",
    "-> model response\n",
    "\n",
    "-> user prompt\n",
    "-> model response\n",
    "\n",
    "-> etc.\n",
    "```"
   ]
  },
  {
   "cell_type": "markdown",
   "metadata": {},
   "source": [
    "We actually saw an example of this in the prompting notebook when we looked at few-shot prompting.\n",
    "\n",
    "Here is a really simple example of how we can keep track of the conversation history. We can first define a `system_state` dictionary that will store important information for us. We can give it a `conversation_history` key that will store the conversation history."
   ]
  },
  {
   "cell_type": "code",
   "execution_count": 3,
   "metadata": {},
   "outputs": [],
   "source": [
    "system_state = {\n",
    "    \"conversation_history\": []\n",
    "}"
   ]
  },
  {
   "cell_type": "code",
   "execution_count": 4,
   "metadata": {},
   "outputs": [],
   "source": [
    "system_prompt = (\n",
    "    \"You are a helpful philosophical assistant. \"\n",
    "    \"You will help me think about philosophical questions. \"\n",
    "    \"Please keep your answers concise and to the point.\"\n",
    ")\n",
    "\n",
    "system_state[\"conversation_history\"].append({\n",
    "    \"role\": \"system\",\n",
    "    \"content\": system_prompt\n",
    "})\n",
    "\n",
    "user_prompt = \"What is the meaning of life?\"\n",
    "\n",
    "system_state[\"conversation_history\"].append({\n",
    "    \"role\": \"user\",\n",
    "    \"content\": user_prompt\n",
    "})"
   ]
  },
  {
   "cell_type": "code",
   "execution_count": 5,
   "metadata": {},
   "outputs": [
    {
     "name": "stdout",
     "output_type": "stream",
     "text": [
      "system: You are a helpful philosophical assistant. You will help me think about philosophical questions. Please keep your answers concise and to the point.\n",
      "\n",
      "user: What is the meaning of life?\n",
      "\n"
     ]
    }
   ],
   "source": [
    "for message in system_state[\"conversation_history\"]:\n",
    "    print(f\"{message['role']}: {message['content']}\\n\")"
   ]
  },
  {
   "cell_type": "markdown",
   "metadata": {},
   "source": [
    "Now we can use this conversation history to generate a response."
   ]
  },
  {
   "cell_type": "code",
   "execution_count": 12,
   "metadata": {},
   "outputs": [],
   "source": [
    "from openai import OpenAI\n",
    "client = OpenAI()\n",
    "\n",
    "import dotenv\n",
    "import os\n",
    "\n",
    "dotenv.load_dotenv()\n",
    "\n",
    "OPENAI_API_KEY = os.getenv(\"OPENAI_API_KEY\")\n",
    "\n",
    "from rich.pretty import pprint"
   ]
  },
  {
   "cell_type": "code",
   "execution_count": 34,
   "metadata": {},
   "outputs": [
    {
     "name": "stdout",
     "output_type": "stream",
     "text": [
      "The meaning of life is a deeply personal and subjective question. Various philosophical, spiritual, and existential perspectives offer different answers: \n",
      "\n",
      "1. **Existentialism** suggests that life has no inherent meaning, and individuals must create their own purpose.\n",
      "2. **Religious perspectives** often provide a framework where life's meaning is linked to a divine purpose or adherence to spiritual teachings.\n",
      "3. **Humanism** focuses on the meaning derived from human relationships, personal fulfillment, and contributing to the greater good.\n",
      "4. **Buddhism** emphasizes the pursuit of enlightenment and understanding the nature of suffering as key to a meaningful life.\n",
      "\n",
      "Ultimately, the meaning of life may depend on one's values, beliefs, and experiences.\n"
     ]
    }
   ],
   "source": [
    "response = client.chat.completions.create(\n",
    "    model=\"gpt-4o-mini\",\n",
    "    messages=system_state[\"conversation_history\"],\n",
    "    max_tokens=512,\n",
    "    temperature=1.0\n",
    ")\n",
    "\n",
    "print(response.choices[0].message.content)"
   ]
  },
  {
   "cell_type": "markdown",
   "metadata": {},
   "source": [
    "Great, but now what happens if I want to ask a follow up question? Without the conversation history?"
   ]
  },
  {
   "cell_type": "code",
   "execution_count": 35,
   "metadata": {},
   "outputs": [
    {
     "name": "stdout",
     "output_type": "stream",
     "text": [
      "Of course! However, I need more context to provide a detailed response. Could you please specify what \"point 1\" you are referring to? This could relate to a list, an article, or a particular topic. Let me know so I can assist you better!\n"
     ]
    }
   ],
   "source": [
    "follow_up_prompt = \"Can you tell more about point 1?\"\n",
    "\n",
    "response = client.chat.completions.create(\n",
    "    model=\"gpt-4o-mini\",\n",
    "    messages=[{\n",
    "        \"role\": \"user\",\n",
    "        \"content\": follow_up_prompt\n",
    "    }],\n",
    "    max_tokens=512,\n",
    "    temperature=1.0\n",
    ")\n",
    "\n",
    "print(response.choices[0].message.content)\n"
   ]
  },
  {
   "cell_type": "markdown",
   "metadata": {},
   "source": [
    "Obviously it has no memory of the previous conversation. So we just need to append the follow up prompt to the conversation history."
   ]
  },
  {
   "cell_type": "code",
   "execution_count": 36,
   "metadata": {},
   "outputs": [
    {
     "name": "stdout",
     "output_type": "stream",
     "text": [
      "SYSTEM: You are a helpful philosophical assistant. You will help me think about philosophical questions. Please keep your answers concise and to the point.\n",
      "\n",
      "USER: What is the meaning of life?\n",
      "\n",
      "ASSISTANT: The meaning of life is a deeply personal and subjective question. Some philosophical perspectives suggest it's about seeking happiness, fulfilling potential, or contributing to others. Existentialists argue it’s up to each individual to create their own meaning. Others find purpose in spiritual beliefs or connections with nature. Ultimately, it varies for each person based on their values, experiences, and beliefs.\n",
      "\n"
     ]
    }
   ],
   "source": [
    "response = client.chat.completions.create(\n",
    "    model=\"gpt-4o-mini\",\n",
    "    messages=system_state[\"conversation_history\"],\n",
    "    max_tokens=512,\n",
    "    temperature=1.0\n",
    ")\n",
    "\n",
    "system_state[\"conversation_history\"].append({\n",
    "    \"role\": \"assistant\",\n",
    "    \"content\": response.choices[0].message.content\n",
    "})\n",
    "\n",
    "for message in system_state[\"conversation_history\"]:\n",
    "    print(f\"{message['role'].upper()}: {message['content']}\\n\")"
   ]
  },
  {
   "cell_type": "markdown",
   "metadata": {},
   "source": [
    "And now we can keep the conversation going in a simple loop. If you run this cell a few times you will see that the conversation history is correctly maintained."
   ]
  },
  {
   "cell_type": "code",
   "execution_count": null,
   "metadata": {},
   "outputs": [],
   "source": [
    "while True:\n",
    "    user_input = input(\"You: \")\n",
    "    \n",
    "    if user_input.lower() in ['exit', 'quit', 'bye']:\n",
    "        print(\"Assistant: Goodbye!\")\n",
    "        break\n",
    "    \n",
    "    system_state[\"conversation_history\"].append({\n",
    "        \"role\": \"user\",\n",
    "        \"content\": user_input\n",
    "    })\n",
    "    \n",
    "    response = client.chat.completions.create(\n",
    "        model=\"gpt-4o-mini\",\n",
    "        messages=system_state[\"conversation_history\"],\n",
    "        max_tokens=512,\n",
    "        temperature=1.0\n",
    "    )\n",
    "    \n",
    "    assistant_response = response.choices[0].message.content\n",
    "    print(f\"Assistant: {assistant_response}\\n\")\n",
    "    \n",
    "    system_state[\"conversation_history\"].append({\n",
    "        \"role\": \"assistant\",\n",
    "        \"content\": assistant_response\n",
    "    })"
   ]
  },
  {
   "cell_type": "code",
   "execution_count": 45,
   "metadata": {},
   "outputs": [],
   "source": [
    "from rich.console import Console\n",
    "from rich.text import Text\n",
    "\n",
    "console = Console()"
   ]
  },
  {
   "cell_type": "code",
   "execution_count": 48,
   "metadata": {},
   "outputs": [
    {
     "data": {
      "text/html": [
       "<pre style=\"white-space:pre;overflow-x:auto;line-height:normal;font-family:Menlo,'DejaVu Sans Mono',consolas,'Courier New',monospace\"><span style=\"color: #008000; text-decoration-color: #008000\">SYSTEM: You are a helpful philosophical assistant. You will help me think about philosophical questions. Please </span>\n",
       "<span style=\"color: #008000; text-decoration-color: #008000\">keep your answers concise and to the point.</span>\n",
       "</pre>\n"
      ],
      "text/plain": [
       "\u001b[32mSYSTEM: You are a helpful philosophical assistant. You will help me think about philosophical questions. Please \u001b[0m\n",
       "\u001b[32mkeep your answers concise and to the point.\u001b[0m\n"
      ]
     },
     "metadata": {},
     "output_type": "display_data"
    },
    {
     "data": {
      "text/html": [
       "<pre style=\"white-space:pre;overflow-x:auto;line-height:normal;font-family:Menlo,'DejaVu Sans Mono',consolas,'Courier New',monospace\"><span style=\"color: #008080; text-decoration-color: #008080\">USER: What is the meaning of life?</span>\n",
       "</pre>\n"
      ],
      "text/plain": [
       "\u001b[36mUSER: What is the meaning of life?\u001b[0m\n"
      ]
     },
     "metadata": {},
     "output_type": "display_data"
    },
    {
     "data": {
      "text/html": [
       "<pre style=\"white-space:pre;overflow-x:auto;line-height:normal;font-family:Menlo,'DejaVu Sans Mono',consolas,'Courier New',monospace\"><span style=\"color: #800080; text-decoration-color: #800080\">ASSISTANT: The meaning of life is a deeply personal and subjective question. Some philosophical perspectives </span>\n",
       "<span style=\"color: #800080; text-decoration-color: #800080\">suggest it's about seeking happiness, fulfilling potential, or contributing to others. Existentialists argue it’s </span>\n",
       "<span style=\"color: #800080; text-decoration-color: #800080\">up to each individual to create their own meaning. Others find purpose in spiritual beliefs or connections with </span>\n",
       "<span style=\"color: #800080; text-decoration-color: #800080\">nature. Ultimately, it varies for each person based on their values, experiences, and beliefs.</span>\n",
       "</pre>\n"
      ],
      "text/plain": [
       "\u001b[35mASSISTANT: The meaning of life is a deeply personal and subjective question. Some philosophical perspectives \u001b[0m\n",
       "\u001b[35msuggest it's about seeking happiness, fulfilling potential, or contributing to others. Existentialists argue it’s \u001b[0m\n",
       "\u001b[35mup to each individual to create their own meaning. Others find purpose in spiritual beliefs or connections with \u001b[0m\n",
       "\u001b[35mnature. Ultimately, it varies for each person based on their values, experiences, and beliefs.\u001b[0m\n"
      ]
     },
     "metadata": {},
     "output_type": "display_data"
    },
    {
     "data": {
      "text/html": [
       "<pre style=\"white-space:pre;overflow-x:auto;line-height:normal;font-family:Menlo,'DejaVu Sans Mono',consolas,'Courier New',monospace\"><span style=\"color: #008080; text-decoration-color: #008080\">USER: Can you tell me more about point </span><span style=\"color: #008080; text-decoration-color: #008080; font-weight: bold\">1</span><span style=\"color: #008080; text-decoration-color: #008080\">?</span>\n",
       "</pre>\n"
      ],
      "text/plain": [
       "\u001b[36mUSER: Can you tell me more about point \u001b[0m\u001b[1;36m1\u001b[0m\u001b[36m?\u001b[0m\n"
      ]
     },
     "metadata": {},
     "output_type": "display_data"
    },
    {
     "data": {
      "text/html": [
       "<pre style=\"white-space:pre;overflow-x:auto;line-height:normal;font-family:Menlo,'DejaVu Sans Mono',consolas,'Courier New',monospace\"><span style=\"color: #800080; text-decoration-color: #800080\">ASSISTANT: Certainly! The idea of seeking happiness as the meaning of life is central to various philosophical </span>\n",
       "<span style=\"color: #800080; text-decoration-color: #800080\">traditions, particularly hedonism and utilitarianism. Here are some key points:</span>\n",
       "\n",
       "<span style=\"color: #800080; text-decoration-color: #800080; font-weight: bold\">1</span><span style=\"color: #800080; text-decoration-color: #800080\">. **Hedonism**: This school of thought posits that pleasure and the avoidance of pain are the highest goods. </span>\n",
       "<span style=\"color: #800080; text-decoration-color: #800080\">According to hedonists, a fulfilling life is one that maximizes pleasure and minimizes suffering.</span>\n",
       "\n",
       "<span style=\"color: #800080; text-decoration-color: #800080; font-weight: bold\">2</span><span style=\"color: #800080; text-decoration-color: #800080\">. **Utilitarianism**: Proposed by philosophers like Jeremy Bentham and John Stuart Mill, utilitarianism expands on</span>\n",
       "<span style=\"color: #800080; text-decoration-color: #800080\">hedonism by suggesting that the right action is the one that produces the greatest overall happiness for the </span>\n",
       "<span style=\"color: #800080; text-decoration-color: #800080\">greatest number of people. It emphasizes collective well-being.</span>\n",
       "\n",
       "<span style=\"color: #800080; text-decoration-color: #800080; font-weight: bold\">3</span><span style=\"color: #800080; text-decoration-color: #800080\">. **Eudaimonia**: In Aristotelian ethics, eudaimonia is often translated as </span><span style=\"color: #800080; text-decoration-color: #800080\">\"flourishing\"</span><span style=\"color: #800080; text-decoration-color: #800080\"> or </span><span style=\"color: #800080; text-decoration-color: #800080\">\"well-being.\"</span><span style=\"color: #800080; text-decoration-color: #800080\"> </span>\n",
       "<span style=\"color: #800080; text-decoration-color: #800080\">Aristotle argues that a meaningful life involves fulfilling one's potential through virtuous actions, intellectual </span>\n",
       "<span style=\"color: #800080; text-decoration-color: #800080\">growth, and community engagement.</span>\n",
       "\n",
       "<span style=\"color: #800080; text-decoration-color: #800080; font-weight: bold\">4</span><span style=\"color: #800080; text-decoration-color: #800080\">. **Positive Psychology**: This modern psychological approach studies well-being and happiness, emphasizing </span>\n",
       "<span style=\"color: #800080; text-decoration-color: #800080\">factors like relationships, purpose, and personal strengths as keys to a meaningful life.</span>\n",
       "\n",
       "<span style=\"color: #800080; text-decoration-color: #800080\">Overall, pursuing happiness as a guiding principle encourages individuals to reflect on their desires, values, and </span>\n",
       "<span style=\"color: #800080; text-decoration-color: #800080\">the impacts of their actions on themselves and others.</span>\n",
       "</pre>\n"
      ],
      "text/plain": [
       "\u001b[35mASSISTANT: Certainly! The idea of seeking happiness as the meaning of life is central to various philosophical \u001b[0m\n",
       "\u001b[35mtraditions, particularly hedonism and utilitarianism. Here are some key points:\u001b[0m\n",
       "\n",
       "\u001b[1;35m1\u001b[0m\u001b[35m. **Hedonism**: This school of thought posits that pleasure and the avoidance of pain are the highest goods. \u001b[0m\n",
       "\u001b[35mAccording to hedonists, a fulfilling life is one that maximizes pleasure and minimizes suffering.\u001b[0m\n",
       "\n",
       "\u001b[1;35m2\u001b[0m\u001b[35m. **Utilitarianism**: Proposed by philosophers like Jeremy Bentham and John Stuart Mill, utilitarianism expands on\u001b[0m\n",
       "\u001b[35mhedonism by suggesting that the right action is the one that produces the greatest overall happiness for the \u001b[0m\n",
       "\u001b[35mgreatest number of people. It emphasizes collective well-being.\u001b[0m\n",
       "\n",
       "\u001b[1;35m3\u001b[0m\u001b[35m. **Eudaimonia**: In Aristotelian ethics, eudaimonia is often translated as \u001b[0m\u001b[35m\"flourishing\"\u001b[0m\u001b[35m or \u001b[0m\u001b[35m\"well-being.\"\u001b[0m\u001b[35m \u001b[0m\n",
       "\u001b[35mAristotle argues that a meaningful life involves fulfilling one's potential through virtuous actions, intellectual \u001b[0m\n",
       "\u001b[35mgrowth, and community engagement.\u001b[0m\n",
       "\n",
       "\u001b[1;35m4\u001b[0m\u001b[35m. **Positive Psychology**: This modern psychological approach studies well-being and happiness, emphasizing \u001b[0m\n",
       "\u001b[35mfactors like relationships, purpose, and personal strengths as keys to a meaningful life.\u001b[0m\n",
       "\n",
       "\u001b[35mOverall, pursuing happiness as a guiding principle encourages individuals to reflect on their desires, values, and \u001b[0m\n",
       "\u001b[35mthe impacts of their actions on themselves and others.\u001b[0m\n"
      ]
     },
     "metadata": {},
     "output_type": "display_data"
    },
    {
     "data": {
      "text/html": [
       "<pre style=\"white-space:pre;overflow-x:auto;line-height:normal;font-family:Menlo,'DejaVu Sans Mono',consolas,'Courier New',monospace\"><span style=\"color: #008080; text-decoration-color: #008080\">USER: That second one sounds interesting. Tell me more about those two people.</span>\n",
       "</pre>\n"
      ],
      "text/plain": [
       "\u001b[36mUSER: That second one sounds interesting. Tell me more about those two people.\u001b[0m\n"
      ]
     },
     "metadata": {},
     "output_type": "display_data"
    },
    {
     "data": {
      "text/html": [
       "<pre style=\"white-space:pre;overflow-x:auto;line-height:normal;font-family:Menlo,'DejaVu Sans Mono',consolas,'Courier New',monospace\"><span style=\"color: #800080; text-decoration-color: #800080\">ASSISTANT: Certainly! Here’s a brief overview of Jeremy Bentham and John Stuart Mill, two key figures in </span>\n",
       "<span style=\"color: #800080; text-decoration-color: #800080\">utilitarianism:</span>\n",
       "\n",
       "<span style=\"color: #800080; text-decoration-color: #800080\">### Jeremy Bentham </span><span style=\"color: #800080; text-decoration-color: #800080; font-weight: bold\">(</span><span style=\"color: #800080; text-decoration-color: #800080; font-weight: bold\">1748</span><span style=\"color: #800080; text-decoration-color: #800080\">–</span><span style=\"color: #800080; text-decoration-color: #800080; font-weight: bold\">1832</span><span style=\"color: #800080; text-decoration-color: #800080; font-weight: bold\">)</span>\n",
       "<span style=\"color: #800080; text-decoration-color: #800080\">- **Founder of Utilitarianism**: Bentham is often considered the father of utilitarianism. He introduced the idea </span>\n",
       "<span style=\"color: #800080; text-decoration-color: #800080\">that the moral worth of an action is determined by its contribution to overall happiness or pleasure.</span>\n",
       "<span style=\"color: #800080; text-decoration-color: #800080\">- **Principle of Utility**: He formulated the </span><span style=\"color: #800080; text-decoration-color: #800080\">\"greatest happiness principle,\"</span><span style=\"color: #800080; text-decoration-color: #800080\"> stating that the best action is the </span>\n",
       "<span style=\"color: #800080; text-decoration-color: #800080\">one that produces the most happiness for the greatest number of people.</span>\n",
       "<span style=\"color: #800080; text-decoration-color: #800080\">- **Hedonic Calculus**: Bentham proposed a method to evaluate the moral rightness of actions based on their </span>\n",
       "<span style=\"color: #800080; text-decoration-color: #800080\">consequences, which he termed the </span><span style=\"color: #800080; text-decoration-color: #800080\">\"hedonic calculus.\"</span><span style=\"color: #800080; text-decoration-color: #800080\"> This involves measuring factors like intensity, duration, </span>\n",
       "<span style=\"color: #800080; text-decoration-color: #800080\">certainty, and proximity of pleasure or pain.</span>\n",
       "<span style=\"color: #800080; text-decoration-color: #800080\">- **Reformist Ideas**: Bentham was also an advocate for social reforms, including legal changes to improve justice,</span>\n",
       "<span style=\"color: #800080; text-decoration-color: #800080\">education, and animal rights.</span>\n",
       "\n",
       "<span style=\"color: #800080; text-decoration-color: #800080\">### John Stuart Mill </span><span style=\"color: #800080; text-decoration-color: #800080; font-weight: bold\">(</span><span style=\"color: #800080; text-decoration-color: #800080; font-weight: bold\">1806</span><span style=\"color: #800080; text-decoration-color: #800080\">–</span><span style=\"color: #800080; text-decoration-color: #800080; font-weight: bold\">1873</span><span style=\"color: #800080; text-decoration-color: #800080; font-weight: bold\">)</span>\n",
       "<span style=\"color: #800080; text-decoration-color: #800080\">- **Advancement of Utilitarianism**: Mill expanded on Bentham's ideas, refining the concept of utility and </span>\n",
       "<span style=\"color: #800080; text-decoration-color: #800080\">addressing some of its criticisms.</span>\n",
       "<span style=\"color: #800080; text-decoration-color: #800080\">- **Qualitative Distinction**: Mill argued that not all pleasures are equal; he distinguished between higher </span>\n",
       "<span style=\"color: #800080; text-decoration-color: #800080; font-weight: bold\">(</span><span style=\"color: #800080; text-decoration-color: #800080\">intellectual and moral</span><span style=\"color: #800080; text-decoration-color: #800080; font-weight: bold\">)</span><span style=\"color: #800080; text-decoration-color: #800080\"> and lower </span><span style=\"color: #800080; text-decoration-color: #800080; font-weight: bold\">(</span><span style=\"color: #800080; text-decoration-color: #800080\">bodily</span><span style=\"color: #800080; text-decoration-color: #800080; font-weight: bold\">)</span><span style=\"color: #800080; text-decoration-color: #800080\"> pleasures. He believed higher pleasures lead to more profound happiness</span>\n",
       "<span style=\"color: #800080; text-decoration-color: #800080\">and should be prioritized.</span>\n",
       "<span style=\"color: #800080; text-decoration-color: #800080\">- **Liberty and Individual Rights**: In his famous work </span><span style=\"color: #800080; text-decoration-color: #800080\">\"On Liberty,\"</span><span style=\"color: #800080; text-decoration-color: #800080\"> Mill emphasized the importance of personal </span>\n",
       "<span style=\"color: #800080; text-decoration-color: #800080\">freedom and autonomy, asserting that individuals should have the right to pursue their own happiness, provided it </span>\n",
       "<span style=\"color: #800080; text-decoration-color: #800080\">does not harm others.</span>\n",
       "<span style=\"color: #800080; text-decoration-color: #800080\">- **Feminism and Social Issues**: Mill was also an early advocate for women's rights, notably in his work </span><span style=\"color: #800080; text-decoration-color: #800080\">\"The </span>\n",
       "<span style=\"color: #800080; text-decoration-color: #800080\">Subjection of Women,\"</span><span style=\"color: #800080; text-decoration-color: #800080\"> arguing for equality and the importance of women's contributions to society.</span>\n",
       "\n",
       "<span style=\"color: #800080; text-decoration-color: #800080\">Both Bentham and Mill have had a lasting influence on ethics, politics, and social reform, shaping discussions </span>\n",
       "<span style=\"color: #800080; text-decoration-color: #800080\">around moral philosophy and the pursuit of happiness.</span>\n",
       "</pre>\n"
      ],
      "text/plain": [
       "\u001b[35mASSISTANT: Certainly! Here’s a brief overview of Jeremy Bentham and John Stuart Mill, two key figures in \u001b[0m\n",
       "\u001b[35mutilitarianism:\u001b[0m\n",
       "\n",
       "\u001b[35m### Jeremy Bentham \u001b[0m\u001b[1;35m(\u001b[0m\u001b[1;35m1748\u001b[0m\u001b[35m–\u001b[0m\u001b[1;35m1832\u001b[0m\u001b[1;35m)\u001b[0m\n",
       "\u001b[35m- **Founder of Utilitarianism**: Bentham is often considered the father of utilitarianism. He introduced the idea \u001b[0m\n",
       "\u001b[35mthat the moral worth of an action is determined by its contribution to overall happiness or pleasure.\u001b[0m\n",
       "\u001b[35m- **Principle of Utility**: He formulated the \u001b[0m\u001b[35m\"greatest happiness principle,\"\u001b[0m\u001b[35m stating that the best action is the \u001b[0m\n",
       "\u001b[35mone that produces the most happiness for the greatest number of people.\u001b[0m\n",
       "\u001b[35m- **Hedonic Calculus**: Bentham proposed a method to evaluate the moral rightness of actions based on their \u001b[0m\n",
       "\u001b[35mconsequences, which he termed the \u001b[0m\u001b[35m\"hedonic calculus.\"\u001b[0m\u001b[35m This involves measuring factors like intensity, duration, \u001b[0m\n",
       "\u001b[35mcertainty, and proximity of pleasure or pain.\u001b[0m\n",
       "\u001b[35m- **Reformist Ideas**: Bentham was also an advocate for social reforms, including legal changes to improve justice,\u001b[0m\n",
       "\u001b[35meducation, and animal rights.\u001b[0m\n",
       "\n",
       "\u001b[35m### John Stuart Mill \u001b[0m\u001b[1;35m(\u001b[0m\u001b[1;35m1806\u001b[0m\u001b[35m–\u001b[0m\u001b[1;35m1873\u001b[0m\u001b[1;35m)\u001b[0m\n",
       "\u001b[35m- **Advancement of Utilitarianism**: Mill expanded on Bentham's ideas, refining the concept of utility and \u001b[0m\n",
       "\u001b[35maddressing some of its criticisms.\u001b[0m\n",
       "\u001b[35m- **Qualitative Distinction**: Mill argued that not all pleasures are equal; he distinguished between higher \u001b[0m\n",
       "\u001b[1;35m(\u001b[0m\u001b[35mintellectual and moral\u001b[0m\u001b[1;35m)\u001b[0m\u001b[35m and lower \u001b[0m\u001b[1;35m(\u001b[0m\u001b[35mbodily\u001b[0m\u001b[1;35m)\u001b[0m\u001b[35m pleasures. He believed higher pleasures lead to more profound happiness\u001b[0m\n",
       "\u001b[35mand should be prioritized.\u001b[0m\n",
       "\u001b[35m- **Liberty and Individual Rights**: In his famous work \u001b[0m\u001b[35m\"On Liberty,\"\u001b[0m\u001b[35m Mill emphasized the importance of personal \u001b[0m\n",
       "\u001b[35mfreedom and autonomy, asserting that individuals should have the right to pursue their own happiness, provided it \u001b[0m\n",
       "\u001b[35mdoes not harm others.\u001b[0m\n",
       "\u001b[35m- **Feminism and Social Issues**: Mill was also an early advocate for women's rights, notably in his work \u001b[0m\u001b[35m\"The \u001b[0m\n",
       "\u001b[35mSubjection of Women,\"\u001b[0m\u001b[35m arguing for equality and the importance of women's contributions to society.\u001b[0m\n",
       "\n",
       "\u001b[35mBoth Bentham and Mill have had a lasting influence on ethics, politics, and social reform, shaping discussions \u001b[0m\n",
       "\u001b[35maround moral philosophy and the pursuit of happiness.\u001b[0m\n"
      ]
     },
     "metadata": {},
     "output_type": "display_data"
    }
   ],
   "source": [
    "colors = {\n",
    "    \"system\": \"green\",\n",
    "    \"user\": \"cyan\",\n",
    "    \"assistant\": \"magenta\"\n",
    "}\n",
    "\n",
    "for message in system_state[\"conversation_history\"]:\n",
    "    role = message[\"role\"]\n",
    "    content = message[\"content\"]\n",
    "    color = colors[role]\n",
    "    console.print(f\"[{color}]{role.upper()}: {content}[/{color}]\")"
   ]
  },
  {
   "cell_type": "markdown",
   "metadata": {},
   "source": [
    "## Tracking tokens\n",
    "We should probably also track the tokens. This can be useful for a few reasons - we can track costs, and we can use it to cut off conversation history when we get too close to our limit.\n",
    "\n",
    "We can make this as simple or complicated as we want. Probably we should create a `Conversation` class to keep track of things like this."
   ]
  },
  {
   "cell_type": "code",
   "execution_count": 114,
   "metadata": {},
   "outputs": [],
   "source": [
    "class Conversation:\n",
    "    def __init__(self, system_prompt):\n",
    "        self.system_prompt = system_prompt\n",
    "        self.history = []\n",
    "        self.tokens = 0\n",
    "        self.token_limit = 300\n",
    "\n",
    "        self.add_message(\"system\", system_prompt)\n",
    "\n",
    "    def add_message(self, role, content):\n",
    "        self.history.append({\"role\": role, \"content\": content})\n",
    "        self.tokens += len(content)\n",
    "\n",
    "    def check_token_limit(self):\n",
    "        while self.tokens > self.token_limit and len(self.history) > 1:\n",
    "            # Remove the oldest non-system message\n",
    "            for i in range(1, len(self.history)):\n",
    "                if self.history[i][\"role\"] != \"system\":\n",
    "                    removed_message = self.history.pop(i)\n",
    "                    self.tokens -= len(removed_message[\"content\"])\n",
    "                    break\n",
    "\n",
    "    def response(self, user_input):\n",
    "        self.add_message(\"user\", user_input)\n",
    "        if self.tokens > self.token_limit:\n",
    "            self.check_token_limit()\n",
    "        response = client.chat.completions.create(\n",
    "            model=\"gpt-4o-mini\",\n",
    "            messages=self.history,\n",
    "            max_tokens=512,\n",
    "            temperature=1.0\n",
    "        ).choices[0].message.content\n",
    "        \n",
    "        self.add_message(\"assistant\", response)\n",
    "\n",
    "        return response\n",
    "                "
   ]
  },
  {
   "cell_type": "markdown",
   "metadata": {},
   "source": [
    "Let's see how this works."
   ]
  },
  {
   "cell_type": "markdown",
   "metadata": {},
   "source": [
    "Let's see if we can get the model to forget about things we mention at the start of a conversation."
   ]
  },
  {
   "cell_type": "code",
   "execution_count": 119,
   "metadata": {},
   "outputs": [],
   "source": [
    "conversation = Conversation(system_prompt)"
   ]
  },
  {
   "cell_type": "code",
   "execution_count": 120,
   "metadata": {},
   "outputs": [
    {
     "name": "stdout",
     "output_type": "stream",
     "text": [
      "Hello, Bob! It's nice to meet you. What philosophical question or topic would you like to explore today?\n",
      "Tokens: 295\n"
     ]
    }
   ],
   "source": [
    "print(conversation.response(\"Hello, my name is Bob and I am 25 years old!\"))\n",
    "print(f\"Tokens: {conversation.tokens}\")"
   ]
  },
  {
   "cell_type": "code",
   "execution_count": 121,
   "metadata": {},
   "outputs": [
    {
     "name": "stdout",
     "output_type": "stream",
     "text": [
      "You mentioned your name is Bob. How can I assist you further?\n",
      "Tokens: 328\n"
     ]
    }
   ],
   "source": [
    "print(conversation.response(\"What is my name?\"))\n",
    "print(f\"Tokens: {conversation.tokens}\")\n"
   ]
  },
  {
   "cell_type": "markdown",
   "metadata": {},
   "source": [
    "Great, so now we have hit our token limit, and the conversation should be trimmed in the next response."
   ]
  },
  {
   "cell_type": "code",
   "execution_count": 122,
   "metadata": {},
   "outputs": [
    {
     "name": "stdout",
     "output_type": "stream",
     "text": [
      "I don't have access to personal information, so I can't know your age. You could share it if you'd like to discuss it further!\n",
      "Tokens: 365\n"
     ]
    }
   ],
   "source": [
    "print(conversation.response(\"What is my age?\"))\n",
    "print(f\"Tokens: {conversation.tokens}\")"
   ]
  },
  {
   "cell_type": "code",
   "execution_count": 123,
   "metadata": {},
   "outputs": [
    {
     "data": {
      "text/html": [
       "<pre style=\"white-space:pre;overflow-x:auto;line-height:normal;font-family:Menlo,'DejaVu Sans Mono',consolas,'Courier New',monospace\"><span style=\"font-weight: bold\">[</span>\n",
       "<span style=\"color: #7fbf7f; text-decoration-color: #7fbf7f\">│   </span><span style=\"font-weight: bold\">{</span>\n",
       "<span style=\"color: #7fbf7f; text-decoration-color: #7fbf7f\">│   │   </span><span style=\"color: #008000; text-decoration-color: #008000\">'role'</span>: <span style=\"color: #008000; text-decoration-color: #008000\">'system'</span>,\n",
       "<span style=\"color: #7fbf7f; text-decoration-color: #7fbf7f\">│   │   </span><span style=\"color: #008000; text-decoration-color: #008000\">'content'</span>: <span style=\"color: #008000; text-decoration-color: #008000\">'You are a helpful philosophical assistant. You will help me think about philosophical questions. Please keep your answers concise and to the point.'</span>\n",
       "<span style=\"color: #7fbf7f; text-decoration-color: #7fbf7f\">│   </span><span style=\"font-weight: bold\">}</span>,\n",
       "<span style=\"color: #7fbf7f; text-decoration-color: #7fbf7f\">│   </span><span style=\"font-weight: bold\">{</span>\n",
       "<span style=\"color: #7fbf7f; text-decoration-color: #7fbf7f\">│   │   </span><span style=\"color: #008000; text-decoration-color: #008000\">'role'</span>: <span style=\"color: #008000; text-decoration-color: #008000\">'user'</span>,\n",
       "<span style=\"color: #7fbf7f; text-decoration-color: #7fbf7f\">│   │   </span><span style=\"color: #008000; text-decoration-color: #008000\">'content'</span>: <span style=\"color: #008000; text-decoration-color: #008000\">'What is my name?'</span>\n",
       "<span style=\"color: #7fbf7f; text-decoration-color: #7fbf7f\">│   </span><span style=\"font-weight: bold\">}</span>,\n",
       "<span style=\"color: #7fbf7f; text-decoration-color: #7fbf7f\">│   </span><span style=\"font-weight: bold\">{</span>\n",
       "<span style=\"color: #7fbf7f; text-decoration-color: #7fbf7f\">│   │   </span><span style=\"color: #008000; text-decoration-color: #008000\">'role'</span>: <span style=\"color: #008000; text-decoration-color: #008000\">'assistant'</span>,\n",
       "<span style=\"color: #7fbf7f; text-decoration-color: #7fbf7f\">│   │   </span><span style=\"color: #008000; text-decoration-color: #008000\">'content'</span>: <span style=\"color: #008000; text-decoration-color: #008000\">'You mentioned your name is Bob. How can I assist you further?'</span>\n",
       "<span style=\"color: #7fbf7f; text-decoration-color: #7fbf7f\">│   </span><span style=\"font-weight: bold\">}</span>,\n",
       "<span style=\"color: #7fbf7f; text-decoration-color: #7fbf7f\">│   </span><span style=\"font-weight: bold\">{</span>\n",
       "<span style=\"color: #7fbf7f; text-decoration-color: #7fbf7f\">│   │   </span><span style=\"color: #008000; text-decoration-color: #008000\">'role'</span>: <span style=\"color: #008000; text-decoration-color: #008000\">'user'</span>,\n",
       "<span style=\"color: #7fbf7f; text-decoration-color: #7fbf7f\">│   │   </span><span style=\"color: #008000; text-decoration-color: #008000\">'content'</span>: <span style=\"color: #008000; text-decoration-color: #008000\">'What is my age?'</span>\n",
       "<span style=\"color: #7fbf7f; text-decoration-color: #7fbf7f\">│   </span><span style=\"font-weight: bold\">}</span>,\n",
       "<span style=\"color: #7fbf7f; text-decoration-color: #7fbf7f\">│   </span><span style=\"font-weight: bold\">{</span>\n",
       "<span style=\"color: #7fbf7f; text-decoration-color: #7fbf7f\">│   │   </span><span style=\"color: #008000; text-decoration-color: #008000\">'role'</span>: <span style=\"color: #008000; text-decoration-color: #008000\">'assistant'</span>,\n",
       "<span style=\"color: #7fbf7f; text-decoration-color: #7fbf7f\">│   │   </span><span style=\"color: #008000; text-decoration-color: #008000\">'content'</span>: <span style=\"color: #008000; text-decoration-color: #008000\">\"I don't have access to personal information, so I can't know your age. You could share it if you'd like to discuss it further!\"</span>\n",
       "<span style=\"color: #7fbf7f; text-decoration-color: #7fbf7f\">│   </span><span style=\"font-weight: bold\">}</span>\n",
       "<span style=\"font-weight: bold\">]</span>\n",
       "</pre>\n"
      ],
      "text/plain": [
       "\u001b[1m[\u001b[0m\n",
       "\u001b[2;32m│   \u001b[0m\u001b[1m{\u001b[0m\n",
       "\u001b[2;32m│   │   \u001b[0m\u001b[32m'role'\u001b[0m: \u001b[32m'system'\u001b[0m,\n",
       "\u001b[2;32m│   │   \u001b[0m\u001b[32m'content'\u001b[0m: \u001b[32m'You are a helpful philosophical assistant. You will help me think about philosophical questions. Please keep your answers concise and to the point.'\u001b[0m\n",
       "\u001b[2;32m│   \u001b[0m\u001b[1m}\u001b[0m,\n",
       "\u001b[2;32m│   \u001b[0m\u001b[1m{\u001b[0m\n",
       "\u001b[2;32m│   │   \u001b[0m\u001b[32m'role'\u001b[0m: \u001b[32m'user'\u001b[0m,\n",
       "\u001b[2;32m│   │   \u001b[0m\u001b[32m'content'\u001b[0m: \u001b[32m'What is my name?'\u001b[0m\n",
       "\u001b[2;32m│   \u001b[0m\u001b[1m}\u001b[0m,\n",
       "\u001b[2;32m│   \u001b[0m\u001b[1m{\u001b[0m\n",
       "\u001b[2;32m│   │   \u001b[0m\u001b[32m'role'\u001b[0m: \u001b[32m'assistant'\u001b[0m,\n",
       "\u001b[2;32m│   │   \u001b[0m\u001b[32m'content'\u001b[0m: \u001b[32m'You mentioned your name is Bob. How can I assist you further?'\u001b[0m\n",
       "\u001b[2;32m│   \u001b[0m\u001b[1m}\u001b[0m,\n",
       "\u001b[2;32m│   \u001b[0m\u001b[1m{\u001b[0m\n",
       "\u001b[2;32m│   │   \u001b[0m\u001b[32m'role'\u001b[0m: \u001b[32m'user'\u001b[0m,\n",
       "\u001b[2;32m│   │   \u001b[0m\u001b[32m'content'\u001b[0m: \u001b[32m'What is my age?'\u001b[0m\n",
       "\u001b[2;32m│   \u001b[0m\u001b[1m}\u001b[0m,\n",
       "\u001b[2;32m│   \u001b[0m\u001b[1m{\u001b[0m\n",
       "\u001b[2;32m│   │   \u001b[0m\u001b[32m'role'\u001b[0m: \u001b[32m'assistant'\u001b[0m,\n",
       "\u001b[2;32m│   │   \u001b[0m\u001b[32m'content'\u001b[0m: \u001b[32m\"I don't have access to personal information, so I can't know your age. You could share it if you'd like to discuss it further!\"\u001b[0m\n",
       "\u001b[2;32m│   \u001b[0m\u001b[1m}\u001b[0m\n",
       "\u001b[1m]\u001b[0m\n"
      ]
     },
     "metadata": {},
     "output_type": "display_data"
    }
   ],
   "source": [
    "pprint(conversation.history, expand_all=True)"
   ]
  },
  {
   "cell_type": "markdown",
   "metadata": {},
   "source": [
    "This is a good start, but there is a problem here. What if there was something very important that we wanted to keep track of that was mentioned at the start of the conversation, but it has been cut off!?"
   ]
  }
 ],
 "metadata": {
  "kernelspec": {
   "display_name": "venv",
   "language": "python",
   "name": "python3"
  },
  "language_info": {
   "codemirror_mode": {
    "name": "ipython",
    "version": 3
   },
   "file_extension": ".py",
   "mimetype": "text/x-python",
   "name": "python",
   "nbconvert_exporter": "python",
   "pygments_lexer": "ipython3",
   "version": "3.11.8"
  }
 },
 "nbformat": 4,
 "nbformat_minor": 2
}
