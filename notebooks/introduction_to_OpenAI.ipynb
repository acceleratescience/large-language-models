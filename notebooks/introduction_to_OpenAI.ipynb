{
 "cells": [
  {
   "cell_type": "markdown",
   "metadata": {},
   "source": [
    "If using colab, run the following:"
   ]
  },
  {
   "cell_type": "code",
   "execution_count": null,
   "metadata": {},
   "outputs": [],
   "source": [
    "from google.colab import drive\n",
    "import os\n",
    "\n",
    "mount='/content/gdrive'\n",
    "drive.mount(mount)\n",
    "\n",
    "# Switch to the directory on the Google Drive that you want to use\n",
    "drive_root = mount + \"/My Drive/large-language-models-main\"\n",
    "%cd $drive_root"
   ]
  },
  {
   "cell_type": "code",
   "execution_count": null,
   "metadata": {},
   "outputs": [],
   "source": [
    "!pip install openai"
   ]
  },
  {
   "cell_type": "markdown",
   "metadata": {},
   "source": [
    "Here is the most basic functionality for a chat completion."
   ]
  },
  {
   "cell_type": "code",
   "execution_count": 2,
   "metadata": {},
   "outputs": [],
   "source": [
    "from openai import OpenAI\n",
    "client = OpenAI()"
   ]
  },
  {
   "cell_type": "code",
   "execution_count": 10,
   "metadata": {},
   "outputs": [],
   "source": [
    "def chat(prompt):\n",
    "  completion = client.chat.completions.create(\n",
    "    model=\"gpt-3.5-turbo\",\n",
    "    messages=[\n",
    "      {\"role\": \"system\", \"content\": \"You are a poetic assistant, skilled in the way of framing complex topics with a zen-like serenity. You will reply to all queries with a poem. If the user does not give a poetic style, you are free to choose one.\"},\n",
    "      {\"role\": \"user\", \"content\": prompt}\n",
    "    ],\n",
    "    max_tokens=1024,\n",
    "    temperature=0.7\n",
    "  )\n",
    "\n",
    "  return completion.choices[0].message.content"
   ]
  },
  {
   "cell_type": "code",
   "execution_count": 12,
   "metadata": {},
   "outputs": [
    {
     "name": "stdout",
     "output_type": "stream",
     "text": [
      "Amidst gentle purrs,\n",
      "Graceful creatures roam and play,\n",
      "Cats, mysteries true.\n"
     ]
    }
   ],
   "source": [
    "response = chat(\"Give me a haiku about cats.\")\n",
    "print(response)"
   ]
  },
  {
   "cell_type": "markdown",
   "metadata": {},
   "source": [
    "Suppose we want to interact with a gpt model in a chat-like fashion? To do this, we need to "
   ]
  }
 ],
 "metadata": {
  "kernelspec": {
   "display_name": "venv",
   "language": "python",
   "name": "python3"
  },
  "language_info": {
   "codemirror_mode": {
    "name": "ipython",
    "version": 3
   },
   "file_extension": ".py",
   "mimetype": "text/x-python",
   "name": "python",
   "nbconvert_exporter": "python",
   "pygments_lexer": "ipython3",
   "version": "3.11.6"
  }
 },
 "nbformat": 4,
 "nbformat_minor": 2
}
